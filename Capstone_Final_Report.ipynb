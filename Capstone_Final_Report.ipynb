{
 "cells": [
  {
   "cell_type": "markdown",
   "id": "2c039f6b",
   "metadata": {},
   "source": [
    "# Preprocessing and Training Data Development"
   ]
  },
  {
   "cell_type": "markdown",
   "id": "9a7a6504",
   "metadata": {},
   "source": [
    "## Step 1: Creating Dummy or Indicator Features\n",
    "We identify and process categorical variables by creating dummy features to represent their categories numerically. This allows us to include them in model development."
   ]
  },
  {
   "cell_type": "code",
   "execution_count": 1,
   "id": "50e648dc",
   "metadata": {},
   "outputs": [
    {
     "data": {
      "text/html": [
       "<div>\n",
       "<style scoped>\n",
       "    .dataframe tbody tr th:only-of-type {\n",
       "        vertical-align: middle;\n",
       "    }\n",
       "\n",
       "    .dataframe tbody tr th {\n",
       "        vertical-align: top;\n",
       "    }\n",
       "\n",
       "    .dataframe thead th {\n",
       "        text-align: right;\n",
       "    }\n",
       "</style>\n",
       "<table border=\"1\" class=\"dataframe\">\n",
       "  <thead>\n",
       "    <tr style=\"text-align: right;\">\n",
       "      <th></th>\n",
       "      <th>price</th>\n",
       "      <th>area</th>\n",
       "      <th>bedrooms</th>\n",
       "      <th>bathrooms</th>\n",
       "      <th>stories</th>\n",
       "      <th>mainroad</th>\n",
       "      <th>guestroom</th>\n",
       "      <th>basement</th>\n",
       "      <th>hotwaterheating</th>\n",
       "      <th>airconditioning</th>\n",
       "      <th>parking</th>\n",
       "      <th>prefarea</th>\n",
       "      <th>furnishingstatus_semi-furnished</th>\n",
       "      <th>furnishingstatus_unfurnished</th>\n",
       "    </tr>\n",
       "  </thead>\n",
       "  <tbody>\n",
       "    <tr>\n",
       "      <th>0</th>\n",
       "      <td>13300000</td>\n",
       "      <td>7420</td>\n",
       "      <td>4</td>\n",
       "      <td>2</td>\n",
       "      <td>3</td>\n",
       "      <td>1</td>\n",
       "      <td>0</td>\n",
       "      <td>0</td>\n",
       "      <td>0</td>\n",
       "      <td>1</td>\n",
       "      <td>2</td>\n",
       "      <td>1</td>\n",
       "      <td>False</td>\n",
       "      <td>False</td>\n",
       "    </tr>\n",
       "    <tr>\n",
       "      <th>1</th>\n",
       "      <td>12250000</td>\n",
       "      <td>8960</td>\n",
       "      <td>4</td>\n",
       "      <td>4</td>\n",
       "      <td>4</td>\n",
       "      <td>1</td>\n",
       "      <td>0</td>\n",
       "      <td>0</td>\n",
       "      <td>0</td>\n",
       "      <td>1</td>\n",
       "      <td>3</td>\n",
       "      <td>0</td>\n",
       "      <td>False</td>\n",
       "      <td>False</td>\n",
       "    </tr>\n",
       "    <tr>\n",
       "      <th>2</th>\n",
       "      <td>12250000</td>\n",
       "      <td>9960</td>\n",
       "      <td>3</td>\n",
       "      <td>2</td>\n",
       "      <td>2</td>\n",
       "      <td>1</td>\n",
       "      <td>0</td>\n",
       "      <td>1</td>\n",
       "      <td>0</td>\n",
       "      <td>0</td>\n",
       "      <td>2</td>\n",
       "      <td>1</td>\n",
       "      <td>True</td>\n",
       "      <td>False</td>\n",
       "    </tr>\n",
       "    <tr>\n",
       "      <th>3</th>\n",
       "      <td>12215000</td>\n",
       "      <td>7500</td>\n",
       "      <td>4</td>\n",
       "      <td>2</td>\n",
       "      <td>2</td>\n",
       "      <td>1</td>\n",
       "      <td>0</td>\n",
       "      <td>1</td>\n",
       "      <td>0</td>\n",
       "      <td>1</td>\n",
       "      <td>3</td>\n",
       "      <td>1</td>\n",
       "      <td>False</td>\n",
       "      <td>False</td>\n",
       "    </tr>\n",
       "    <tr>\n",
       "      <th>4</th>\n",
       "      <td>11410000</td>\n",
       "      <td>7420</td>\n",
       "      <td>4</td>\n",
       "      <td>1</td>\n",
       "      <td>2</td>\n",
       "      <td>1</td>\n",
       "      <td>1</td>\n",
       "      <td>1</td>\n",
       "      <td>0</td>\n",
       "      <td>1</td>\n",
       "      <td>2</td>\n",
       "      <td>0</td>\n",
       "      <td>False</td>\n",
       "      <td>False</td>\n",
       "    </tr>\n",
       "  </tbody>\n",
       "</table>\n",
       "</div>"
      ],
      "text/plain": [
       "      price  area  bedrooms  bathrooms  stories  mainroad  guestroom  \\\n",
       "0  13300000  7420         4          2        3         1          0   \n",
       "1  12250000  8960         4          4        4         1          0   \n",
       "2  12250000  9960         3          2        2         1          0   \n",
       "3  12215000  7500         4          2        2         1          0   \n",
       "4  11410000  7420         4          1        2         1          1   \n",
       "\n",
       "   basement  hotwaterheating  airconditioning  parking  prefarea  \\\n",
       "0         0                0                1        2         1   \n",
       "1         0                0                1        3         0   \n",
       "2         1                0                0        2         1   \n",
       "3         1                0                1        3         1   \n",
       "4         1                0                1        2         0   \n",
       "\n",
       "   furnishingstatus_semi-furnished  furnishingstatus_unfurnished  \n",
       "0                            False                         False  \n",
       "1                            False                         False  \n",
       "2                             True                         False  \n",
       "3                            False                         False  \n",
       "4                            False                         False  "
      ]
     },
     "execution_count": 1,
     "metadata": {},
     "output_type": "execute_result"
    }
   ],
   "source": [
    "# Import necessary libraries\n",
    "import pandas as pd\n",
    "\n",
    "# Load the dataset\n",
    "housing_data = pd.read_csv('Housing.csv')\n",
    "\n",
    "# Convert binary categorical variables (yes/no) to numeric (1/0)\n",
    "binary_columns = ['mainroad', 'guestroom', 'basement', 'hotwaterheating', 'airconditioning', 'prefarea']\n",
    "housing_data[binary_columns] = housing_data[binary_columns].replace({'yes': 1, 'no': 0})\n",
    "\n",
    "# Create dummy variables for 'furnishingstatus'\n",
    "housing_data = pd.get_dummies(housing_data, columns=['furnishingstatus'], drop_first=True)\n",
    "\n",
    "# Display the updated dataset\n",
    "housing_data.head()"
   ]
  },
  {
   "cell_type": "markdown",
   "id": "541252aa",
   "metadata": {},
   "source": [
    "## Step 2: Standardizing the Magnitude of Numeric Features\n",
    "To ensure all numerical features are on the same scale, we standardize them to have a mean of 0 and a standard deviation of 1. This step is crucial for models sensitive to feature magnitude, such as linear regression or gradient boosting."
   ]
  },
  {
   "cell_type": "code",
   "execution_count": 2,
   "id": "e42b0148",
   "metadata": {},
   "outputs": [
    {
     "data": {
      "text/html": [
       "<div>\n",
       "<style scoped>\n",
       "    .dataframe tbody tr th:only-of-type {\n",
       "        vertical-align: middle;\n",
       "    }\n",
       "\n",
       "    .dataframe tbody tr th {\n",
       "        vertical-align: top;\n",
       "    }\n",
       "\n",
       "    .dataframe thead th {\n",
       "        text-align: right;\n",
       "    }\n",
       "</style>\n",
       "<table border=\"1\" class=\"dataframe\">\n",
       "  <thead>\n",
       "    <tr style=\"text-align: right;\">\n",
       "      <th></th>\n",
       "      <th>price</th>\n",
       "      <th>area</th>\n",
       "      <th>bedrooms</th>\n",
       "      <th>bathrooms</th>\n",
       "      <th>stories</th>\n",
       "      <th>mainroad</th>\n",
       "      <th>guestroom</th>\n",
       "      <th>basement</th>\n",
       "      <th>hotwaterheating</th>\n",
       "      <th>airconditioning</th>\n",
       "      <th>parking</th>\n",
       "      <th>prefarea</th>\n",
       "      <th>furnishingstatus_semi-furnished</th>\n",
       "      <th>furnishingstatus_unfurnished</th>\n",
       "    </tr>\n",
       "  </thead>\n",
       "  <tbody>\n",
       "    <tr>\n",
       "      <th>0</th>\n",
       "      <td>13300000</td>\n",
       "      <td>1.046726</td>\n",
       "      <td>1.403419</td>\n",
       "      <td>1.421812</td>\n",
       "      <td>1.378217</td>\n",
       "      <td>1</td>\n",
       "      <td>0</td>\n",
       "      <td>0</td>\n",
       "      <td>0</td>\n",
       "      <td>1</td>\n",
       "      <td>1.517692</td>\n",
       "      <td>1</td>\n",
       "      <td>False</td>\n",
       "      <td>False</td>\n",
       "    </tr>\n",
       "    <tr>\n",
       "      <th>1</th>\n",
       "      <td>12250000</td>\n",
       "      <td>1.757010</td>\n",
       "      <td>1.403419</td>\n",
       "      <td>5.405809</td>\n",
       "      <td>2.532024</td>\n",
       "      <td>1</td>\n",
       "      <td>0</td>\n",
       "      <td>0</td>\n",
       "      <td>0</td>\n",
       "      <td>1</td>\n",
       "      <td>2.679409</td>\n",
       "      <td>0</td>\n",
       "      <td>False</td>\n",
       "      <td>False</td>\n",
       "    </tr>\n",
       "    <tr>\n",
       "      <th>2</th>\n",
       "      <td>12250000</td>\n",
       "      <td>2.218232</td>\n",
       "      <td>0.047278</td>\n",
       "      <td>1.421812</td>\n",
       "      <td>0.224410</td>\n",
       "      <td>1</td>\n",
       "      <td>0</td>\n",
       "      <td>1</td>\n",
       "      <td>0</td>\n",
       "      <td>0</td>\n",
       "      <td>1.517692</td>\n",
       "      <td>1</td>\n",
       "      <td>True</td>\n",
       "      <td>False</td>\n",
       "    </tr>\n",
       "    <tr>\n",
       "      <th>3</th>\n",
       "      <td>12215000</td>\n",
       "      <td>1.083624</td>\n",
       "      <td>1.403419</td>\n",
       "      <td>1.421812</td>\n",
       "      <td>0.224410</td>\n",
       "      <td>1</td>\n",
       "      <td>0</td>\n",
       "      <td>1</td>\n",
       "      <td>0</td>\n",
       "      <td>1</td>\n",
       "      <td>2.679409</td>\n",
       "      <td>1</td>\n",
       "      <td>False</td>\n",
       "      <td>False</td>\n",
       "    </tr>\n",
       "    <tr>\n",
       "      <th>4</th>\n",
       "      <td>11410000</td>\n",
       "      <td>1.046726</td>\n",
       "      <td>1.403419</td>\n",
       "      <td>-0.570187</td>\n",
       "      <td>0.224410</td>\n",
       "      <td>1</td>\n",
       "      <td>1</td>\n",
       "      <td>1</td>\n",
       "      <td>0</td>\n",
       "      <td>1</td>\n",
       "      <td>1.517692</td>\n",
       "      <td>0</td>\n",
       "      <td>False</td>\n",
       "      <td>False</td>\n",
       "    </tr>\n",
       "  </tbody>\n",
       "</table>\n",
       "</div>"
      ],
      "text/plain": [
       "      price      area  bedrooms  bathrooms   stories  mainroad  guestroom  \\\n",
       "0  13300000  1.046726  1.403419   1.421812  1.378217         1          0   \n",
       "1  12250000  1.757010  1.403419   5.405809  2.532024         1          0   \n",
       "2  12250000  2.218232  0.047278   1.421812  0.224410         1          0   \n",
       "3  12215000  1.083624  1.403419   1.421812  0.224410         1          0   \n",
       "4  11410000  1.046726  1.403419  -0.570187  0.224410         1          1   \n",
       "\n",
       "   basement  hotwaterheating  airconditioning   parking  prefarea  \\\n",
       "0         0                0                1  1.517692         1   \n",
       "1         0                0                1  2.679409         0   \n",
       "2         1                0                0  1.517692         1   \n",
       "3         1                0                1  2.679409         1   \n",
       "4         1                0                1  1.517692         0   \n",
       "\n",
       "   furnishingstatus_semi-furnished  furnishingstatus_unfurnished  \n",
       "0                            False                         False  \n",
       "1                            False                         False  \n",
       "2                             True                         False  \n",
       "3                            False                         False  \n",
       "4                            False                         False  "
      ]
     },
     "execution_count": 2,
     "metadata": {},
     "output_type": "execute_result"
    }
   ],
   "source": [
    "from sklearn.preprocessing import StandardScaler\n",
    "\n",
    "# Initialize the scaler\n",
    "scaler = StandardScaler()\n",
    "\n",
    "# Identify numerical columns to scale\n",
    "numerical_columns = ['area', 'bedrooms', 'bathrooms', 'stories', 'parking']\n",
    "housing_data[numerical_columns] = scaler.fit_transform(housing_data[numerical_columns])\n",
    "\n",
    "# Display the dataset after scaling\n",
    "housing_data.head()"
   ]
  },
  {
   "cell_type": "markdown",
   "id": "d1830b64",
   "metadata": {},
   "source": [
    "## Step 3: Splitting the Data into Training and Testing Subsets\n",
    "We split the dataset into training (80%) and testing (20%) subsets. The training set will be used to train the model, and the testing set will evaluate its performance."
   ]
  },
  {
   "cell_type": "code",
   "execution_count": 3,
   "id": "beb3907a",
   "metadata": {},
   "outputs": [
    {
     "name": "stdout",
     "output_type": "stream",
     "text": [
      "Training Features Shape: (436, 13)\n",
      "Testing Features Shape: (109, 13)\n",
      "Training Labels Shape: (436,)\n",
      "Testing Labels Shape: (109,)\n"
     ]
    }
   ],
   "source": [
    "from sklearn.model_selection import train_test_split\n",
    "\n",
    "# Define the target variable (price) and features\n",
    "X = housing_data.drop(columns=['price'])  # Features\n",
    "y = housing_data['price']  # Target variable\n",
    "\n",
    "# Split the data\n",
    "X_train, X_test, y_train, y_test = train_test_split(X, y, test_size=0.2, random_state=42)\n",
    "\n",
    "# Display the shapes of the training and testing sets\n",
    "print(\"Training Features Shape:\", X_train.shape)\n",
    "print(\"Testing Features Shape:\", X_test.shape)\n",
    "print(\"Training Labels Shape:\", y_train.shape)\n",
    "print(\"Testing Labels Shape:\", y_test.shape)"
   ]
  },
  {
   "cell_type": "markdown",
   "id": "a2fcdfd0",
   "metadata": {},
   "source": [
    "## Step 4: Saving Preprocessed Data\n",
    "To ensure reproducibility and facilitate modeling in subsequent steps, we save the preprocessed training and testing datasets as CSV files."
   ]
  },
  {
   "cell_type": "code",
   "execution_count": 4,
   "id": "fb556468",
   "metadata": {},
   "outputs": [
    {
     "name": "stdout",
     "output_type": "stream",
     "text": [
      "Preprocessed data saved successfully.\n"
     ]
    }
   ],
   "source": [
    "# Save the preprocessed data\n",
    "X_train.to_csv('X_train.csv', index=False)\n",
    "X_test.to_csv('X_test.csv', index=False)\n",
    "y_train.to_csv('y_train.csv', index=False)\n",
    "y_test.to_csv('y_test.csv', index=False)\n",
    "\n",
    "print(\"Preprocessed data saved successfully.\")"
   ]
  },
  {
   "cell_type": "markdown",
   "id": "a8012ad6",
   "metadata": {},
   "source": [
    "## Modeling: Predicting House Prices\n",
    "In this section, we will:\n",
    "- Train and evaluate three models (Linear Regression, Random Forest, and XGBoost).\n",
    "- Compare their performance using Root Mean Squared Error (RMSE) and R² Score.\n",
    "- Identify the best-performing model for predicting house prices."
   ]
  },
  {
   "cell_type": "markdown",
   "id": "1c359613",
   "metadata": {},
   "source": [
    "### Step 1: Load Preprocessed Data\n",
    "We start by loading the preprocessed training and testing datasets created earlier."
   ]
  },
  {
   "cell_type": "code",
   "execution_count": 5,
   "id": "ebc5f03b",
   "metadata": {},
   "outputs": [
    {
     "name": "stdout",
     "output_type": "stream",
     "text": [
      "Training Features Shape: (436, 13)\n",
      "Testing Features Shape: (109, 13)\n",
      "Training Labels Shape: (436,)\n",
      "Testing Labels Shape: (109,)\n"
     ]
    }
   ],
   "source": [
    "import pandas as pd\n",
    "X_train = pd.read_csv('X_train.csv')\n",
    "X_test = pd.read_csv('X_test.csv')\n",
    "y_train = pd.read_csv('y_train.csv').values.ravel()  # Flatten the target array\n",
    "y_test = pd.read_csv('y_test.csv').values.ravel()\n",
    "\n",
    "# Display the shapes of the datasets\n",
    "print(\"Training Features Shape:\", X_train.shape)\n",
    "print(\"Testing Features Shape:\", X_test.shape)\n",
    "print(\"Training Labels Shape:\", y_train.shape)\n",
    "print(\"Testing Labels Shape:\", y_test.shape)"
   ]
  },
  {
   "cell_type": "markdown",
   "id": "43b6bce3",
   "metadata": {},
   "source": [
    "### Step 2: Define Models\n",
    "We will evaluate the following models:\n",
    "- **Linear Regression**: A simple, interpretable baseline model.\n",
    "- **Random Forest Regressor**: A tree-based ensemble model for non-linear relationships.\n",
    "- **XGBoost Regressor**: A gradient boosting model for powerful predictions."
   ]
  },
  {
   "cell_type": "code",
   "execution_count": 6,
   "id": "7c60e4f5",
   "metadata": {},
   "outputs": [],
   "source": [
    "from sklearn.linear_model import LinearRegression\n",
    "from sklearn.ensemble import RandomForestRegressor\n",
    "from xgboost import XGBRegressor\n",
    "\n",
    "# Initialize models\n",
    "models = {\n",
    "    'Linear Regression': LinearRegression(),\n",
    "    'Random Forest': RandomForestRegressor(random_state=42),\n",
    "    'XGBoost': XGBRegressor(random_state=42)\n",
    "}"
   ]
  },
  {
   "cell_type": "markdown",
   "id": "7711a390",
   "metadata": {},
   "source": [
    "### Step 3: Train and Evaluate Models\n",
    "We train each model using the training set and evaluate its performance on the testing set using the following metrics:\n",
    "- **Root Mean Squared Error (RMSE)**: Measures the average prediction error.\n",
    "- **R² Score**: Indicates how well the model explains the variance in the target variable."
   ]
  },
  {
   "cell_type": "code",
   "execution_count": 7,
   "id": "e86b638c",
   "metadata": {
    "scrolled": true
   },
   "outputs": [
    {
     "name": "stderr",
     "output_type": "stream",
     "text": [
      "C:\\Users\\drasw\\anaconda3\\Lib\\site-packages\\sklearn\\metrics\\_regression.py:492: FutureWarning: 'squared' is deprecated in version 1.4 and will be removed in 1.6. To calculate the root mean squared error, use the function'root_mean_squared_error'.\n",
      "  warnings.warn(\n",
      "C:\\Users\\drasw\\anaconda3\\Lib\\site-packages\\sklearn\\metrics\\_regression.py:492: FutureWarning: 'squared' is deprecated in version 1.4 and will be removed in 1.6. To calculate the root mean squared error, use the function'root_mean_squared_error'.\n",
      "  warnings.warn(\n"
     ]
    },
    {
     "name": "stdout",
     "output_type": "stream",
     "text": [
      "               Model          RMSE  R² Score\n",
      "0  Linear Regression  1.324507e+06  0.652924\n",
      "1      Random Forest  1.400845e+06  0.611764\n",
      "2            XGBoost  1.448930e+06  0.584653\n"
     ]
    },
    {
     "name": "stderr",
     "output_type": "stream",
     "text": [
      "C:\\Users\\drasw\\anaconda3\\Lib\\site-packages\\sklearn\\metrics\\_regression.py:492: FutureWarning: 'squared' is deprecated in version 1.4 and will be removed in 1.6. To calculate the root mean squared error, use the function'root_mean_squared_error'.\n",
      "  warnings.warn(\n"
     ]
    }
   ],
   "source": [
    "from sklearn.metrics import mean_squared_error, r2_score\n",
    "\n",
    "# Helper function to evaluate models\n",
    "def evaluate_model(model, X_train, y_train, X_test, y_test):\n",
    "    model.fit(X_train, y_train)  # Train the model\n",
    "    y_pred = model.predict(X_test)  # Make predictions\n",
    "    rmse = mean_squared_error(y_test, y_pred, squared=False)  # Calculate RMSE\n",
    "    r2 = r2_score(y_test, y_pred)  # Calculate R² Score\n",
    "    return rmse, r2\n",
    "\n",
    "# Evaluate each model\n",
    "results = []\n",
    "for name, model in models.items():\n",
    "    rmse, r2 = evaluate_model(model, X_train, y_train, X_test, y_test)\n",
    "    results.append({'Model': name, 'RMSE': rmse, 'R² Score': r2})\n",
    "\n",
    "# Create a DataFrame to display results\n",
    "results_df = pd.DataFrame(results)\n",
    "print(results_df)"
   ]
  },
  {
   "cell_type": "markdown",
   "id": "b365532e",
   "metadata": {},
   "source": [
    "### Step 4: Identify the Best Model\n",
    "We select the model with the lowest RMSE as the best model. If two models have similar RMSE, we also consider R² Score and other factors like interpretability and computational efficiency."
   ]
  },
  {
   "cell_type": "code",
   "execution_count": 8,
   "id": "35522096",
   "metadata": {},
   "outputs": [
    {
     "name": "stdout",
     "output_type": "stream",
     "text": [
      "Best Model:\n",
      "Model       Linear Regression\n",
      "RMSE           1324506.960091\n",
      "R² Score             0.652924\n",
      "Name: 0, dtype: object\n"
     ]
    }
   ],
   "source": [
    "# Identify the best model based on RMSE\n",
    "best_model = results_df.loc[results_df['RMSE'].idxmin()]\n",
    "print(\"Best Model:\")\n",
    "print(best_model)"
   ]
  },
  {
   "cell_type": "markdown",
   "id": "dc55c32c",
   "metadata": {},
   "source": [
    "\n",
    "- We trained and evaluated three models: Linear Regression, Random Forest, and XGBoost.\n",
    "- Based on the evaluation metrics, we identified the best-performing model.\n",
    "- This model will be used for making predictions and further analysis."
   ]
  },
  {
   "cell_type": "markdown",
   "id": "f5a46a37",
   "metadata": {},
   "source": [
    "## Final Model: Linear Regression\n",
    "Based on the evaluation metrics, Linear Regression was identified as the best-performing model for predicting house prices. In this section, we use the model to make predictions and draw final conclusions."
   ]
  },
  {
   "cell_type": "markdown",
   "id": "9190bc97",
   "metadata": {},
   "source": [
    "### Model Predictions\n",
    "We use the Linear Regression model to make predictions on the test data and analyze its performance."
   ]
  },
  {
   "cell_type": "code",
   "execution_count": 9,
   "id": "86178eb5",
   "metadata": {},
   "outputs": [
    {
     "name": "stdout",
     "output_type": "stream",
     "text": [
      "Final Model RMSE: 1324506.9600914405\n",
      "Final Model R² Score: 0.6529242642153175\n"
     ]
    },
    {
     "name": "stderr",
     "output_type": "stream",
     "text": [
      "C:\\Users\\drasw\\anaconda3\\Lib\\site-packages\\sklearn\\metrics\\_regression.py:492: FutureWarning: 'squared' is deprecated in version 1.4 and will be removed in 1.6. To calculate the root mean squared error, use the function'root_mean_squared_error'.\n",
      "  warnings.warn(\n"
     ]
    }
   ],
   "source": [
    "from sklearn.linear_model import LinearRegression\n",
    "from sklearn.metrics import mean_squared_error, r2_score\n",
    "\n",
    "# Initialize the Linear Regression model\n",
    "final_model = LinearRegression()\n",
    "\n",
    "# Train the model on the training data\n",
    "final_model.fit(X_train, y_train)\n",
    "\n",
    "# Make predictions on the test data\n",
    "y_pred = final_model.predict(X_test)\n",
    "\n",
    "# Evaluate the final model\n",
    "final_rmse = mean_squared_error(y_test, y_pred, squared=False)\n",
    "final_r2 = r2_score(y_test, y_pred)\n",
    "\n",
    "print(f\"Final Model RMSE: {final_rmse}\")\n",
    "print(f\"Final Model R² Score: {final_r2}\")"
   ]
  },
  {
   "cell_type": "markdown",
   "id": "72036d8b",
   "metadata": {},
   "source": [
    "### Visualizing Predictions\n",
    "We create a scatterplot to visualize the relationship between the actual and predicted house prices."
   ]
  },
  {
   "cell_type": "code",
   "execution_count": 10,
   "id": "2e281459",
   "metadata": {},
   "outputs": [
    {
     "data": {
      "image/png": "[encoded data removed]",
      "text/plain": [
       "<Figure size 800x600 with 1 Axes>"
      ]
     },
     "metadata": {},
     "output_type": "display_data"
    }
   ],
   "source": [
    "import matplotlib.pyplot as plt\n",
    "\n",
    "# Scatterplot of Actual vs. Predicted Prices\n",
    "plt.figure(figsize=(8, 6))\n",
    "plt.scatter(y_test, y_pred, alpha=0.6)\n",
    "plt.title(\"Actual vs. Predicted Prices\")\n",
    "plt.xlabel(\"Actual Prices\")\n",
    "plt.ylabel(\"Predicted Prices\")\n",
    "plt.plot([min(y_test), max(y_test)], [min(y_test), max(y_test)], color='red', linewidth=2)\n",
    "plt.show()"
   ]
  },
  {
   "cell_type": "markdown",
   "id": "a60c1095",
   "metadata": {},
   "source": [
    "## Feature Engineering\n",
    "To improve model performance, we apply feature transformations:\n",
    "- Log-transform `price` and `area` to address skewness.\n",
    "- Add interaction terms or polynomial features for non-linear relationships."
   ]
  },
  {
   "cell_type": "code",
   "execution_count": 11,
   "id": "967e3a30",
   "metadata": {},
   "outputs": [
    {
     "name": "stderr",
     "output_type": "stream",
     "text": [
      "C:\\Users\\drasw\\anaconda3\\Lib\\site-packages\\pandas\\core\\arraylike.py:396: RuntimeWarning: invalid value encountered in log\n",
      "  result = getattr(ufunc, method)(*inputs, **kwargs)\n"
     ]
    },
    {
     "data": {
      "text/html": [
       "<div>\n",
       "<style scoped>\n",
       "    .dataframe tbody tr th:only-of-type {\n",
       "        vertical-align: middle;\n",
       "    }\n",
       "\n",
       "    .dataframe tbody tr th {\n",
       "        vertical-align: top;\n",
       "    }\n",
       "\n",
       "    .dataframe thead th {\n",
       "        text-align: right;\n",
       "    }\n",
       "</style>\n",
       "<table border=\"1\" class=\"dataframe\">\n",
       "  <thead>\n",
       "    <tr style=\"text-align: right;\">\n",
       "      <th></th>\n",
       "      <th>price</th>\n",
       "      <th>log_price</th>\n",
       "      <th>area</th>\n",
       "      <th>log_area</th>\n",
       "    </tr>\n",
       "  </thead>\n",
       "  <tbody>\n",
       "    <tr>\n",
       "      <th>0</th>\n",
       "      <td>13300000</td>\n",
       "      <td>16.403275</td>\n",
       "      <td>1.046726</td>\n",
       "      <td>0.045667</td>\n",
       "    </tr>\n",
       "    <tr>\n",
       "      <th>1</th>\n",
       "      <td>12250000</td>\n",
       "      <td>16.321036</td>\n",
       "      <td>1.757010</td>\n",
       "      <td>0.563613</td>\n",
       "    </tr>\n",
       "    <tr>\n",
       "      <th>2</th>\n",
       "      <td>12250000</td>\n",
       "      <td>16.321036</td>\n",
       "      <td>2.218232</td>\n",
       "      <td>0.796711</td>\n",
       "    </tr>\n",
       "    <tr>\n",
       "      <th>3</th>\n",
       "      <td>12215000</td>\n",
       "      <td>16.318175</td>\n",
       "      <td>1.083624</td>\n",
       "      <td>0.080311</td>\n",
       "    </tr>\n",
       "    <tr>\n",
       "      <th>4</th>\n",
       "      <td>11410000</td>\n",
       "      <td>16.250001</td>\n",
       "      <td>1.046726</td>\n",
       "      <td>0.045667</td>\n",
       "    </tr>\n",
       "  </tbody>\n",
       "</table>\n",
       "</div>"
      ],
      "text/plain": [
       "      price  log_price      area  log_area\n",
       "0  13300000  16.403275  1.046726  0.045667\n",
       "1  12250000  16.321036  1.757010  0.563613\n",
       "2  12250000  16.321036  2.218232  0.796711\n",
       "3  12215000  16.318175  1.083624  0.080311\n",
       "4  11410000  16.250001  1.046726  0.045667"
      ]
     },
     "execution_count": 11,
     "metadata": {},
     "output_type": "execute_result"
    }
   ],
   "source": [
    "# Log-transform skewed variables\n",
    "import numpy as np\n",
    "housing_data['log_price'] = np.log(housing_data['price'])\n",
    "housing_data['log_area'] = np.log(housing_data['area'])\n",
    "\n",
    "# Display the updated dataset\n",
    "housing_data[['price', 'log_price', 'area', 'log_area']].head()"
   ]
  },
  {
   "cell_type": "markdown",
   "id": "96308ac6",
   "metadata": {},
   "source": [
    "## Advanced Modeling: Random Forest and XGBoost\n",
    "We train and evaluate two advanced models to capture non-linear patterns:\n",
    "- **Random Forest**: A tree-based ensemble model.\n",
    "- **XGBoost**: A gradient boosting model."
   ]
  },
  {
   "cell_type": "code",
   "execution_count": 12,
   "id": "b4820aeb",
   "metadata": {},
   "outputs": [
    {
     "name": "stdout",
     "output_type": "stream",
     "text": [
      "Random Forest RMSE: 1400844.8871389749, R²: 0.6117639478377632\n",
      "XGBoost RMSE: 1448930.01956903, R²: 0.5846534967422485\n"
     ]
    },
    {
     "name": "stderr",
     "output_type": "stream",
     "text": [
      "C:\\Users\\drasw\\anaconda3\\Lib\\site-packages\\sklearn\\metrics\\_regression.py:492: FutureWarning: 'squared' is deprecated in version 1.4 and will be removed in 1.6. To calculate the root mean squared error, use the function'root_mean_squared_error'.\n",
      "  warnings.warn(\n",
      "C:\\Users\\drasw\\anaconda3\\Lib\\site-packages\\sklearn\\metrics\\_regression.py:492: FutureWarning: 'squared' is deprecated in version 1.4 and will be removed in 1.6. To calculate the root mean squared error, use the function'root_mean_squared_error'.\n",
      "  warnings.warn(\n"
     ]
    }
   ],
   "source": [
    "from sklearn.ensemble import RandomForestRegressor\n",
    "from xgboost import XGBRegressor\n",
    "from sklearn.metrics import mean_squared_error, r2_score\n",
    "\n",
    "# Initialize advanced models\n",
    "random_forest = RandomForestRegressor(random_state=42)\n",
    "xgboost = XGBRegressor(random_state=42)\n",
    "\n",
    "# Train and evaluate Random Forest\n",
    "random_forest.fit(X_train, y_train)\n",
    "rf_pred = random_forest.predict(X_test)\n",
    "rf_rmse = mean_squared_error(y_test, rf_pred, squared=False)\n",
    "rf_r2 = r2_score(y_test, rf_pred)\n",
    "\n",
    "# Train and evaluate XGBoost\n",
    "xgboost.fit(X_train, y_train)\n",
    "xgb_pred = xgboost.predict(X_test)\n",
    "xgb_rmse = mean_squared_error(y_test, xgb_pred, squared=False)\n",
    "xgb_r2 = r2_score(y_test, xgb_pred)\n",
    "\n",
    "# Display results\n",
    "print(f\"Random Forest RMSE: {rf_rmse}, R²: {rf_r2}\")\n",
    "print(f\"XGBoost RMSE: {xgb_rmse}, R²: {xgb_r2}\")"
   ]
  },
  {
   "cell_type": "markdown",
   "id": "9bde013d",
   "metadata": {},
   "source": [
    "## Hyperparameter Tuning: Random Forest\n",
    "We use GridSearchCV to find the best hyperparameters for Random Forest."
   ]
  },
  {
   "cell_type": "code",
   "execution_count": 13,
   "id": "2becf78b",
   "metadata": {},
   "outputs": [
    {
     "name": "stdout",
     "output_type": "stream",
     "text": [
      "Best Random Forest Parameters: {'max_depth': 20, 'min_samples_split': 10, 'n_estimators': 200}\n",
      "Best Random Forest RMSE: 1437423.4403546776\n"
     ]
    },
    {
     "name": "stderr",
     "output_type": "stream",
     "text": [
      "C:\\Users\\drasw\\anaconda3\\Lib\\site-packages\\sklearn\\metrics\\_regression.py:492: FutureWarning: 'squared' is deprecated in version 1.4 and will be removed in 1.6. To calculate the root mean squared error, use the function'root_mean_squared_error'.\n",
      "  warnings.warn(\n"
     ]
    }
   ],
   "source": [
    "from sklearn.model_selection import GridSearchCV\n",
    "\n",
    "# Define parameter grid\n",
    "param_grid = {\n",
    "    'n_estimators': [100, 200],\n",
    "    'max_depth': [10, 20, None],\n",
    "    'min_samples_split': [2, 5, 10]\n",
    "}\n",
    "\n",
    "# Initialize GridSearchCV\n",
    "grid_search = GridSearchCV(RandomForestRegressor(random_state=42), param_grid, cv=3, scoring='neg_mean_squared_error')\n",
    "grid_search.fit(X_train, y_train)\n",
    "\n",
    "# Display best parameters and performance\n",
    "best_rf = grid_search.best_estimator_\n",
    "best_rf_rmse = mean_squared_error(y_test, best_rf.predict(X_test), squared=False)\n",
    "print(\"Best Random Forest Parameters:\", grid_search.best_params_)\n",
    "print(f\"Best Random Forest RMSE: {best_rf_rmse}\")"
   ]
  },
  {
   "cell_type": "markdown",
   "id": "2b529bfa",
   "metadata": {},
   "source": [
    "## Feature Importance\n",
    "We visualize feature importance for the Random Forest model."
   ]
  },
  {
   "cell_type": "code",
   "execution_count": 14,
   "id": "ece176ae",
   "metadata": {},
   "outputs": [
    {
     "data": {
      "image/png": "[encoded data removed]",
      "text/plain": [
       "<Figure size 1000x600 with 1 Axes>"
      ]
     },
     "metadata": {},
     "output_type": "display_data"
    }
   ],
   "source": [
    "import matplotlib.pyplot as plt\n",
    "import pandas as pd\n",
    "import seaborn as sns\n",
    "\n",
    "# Get feature importance from the best Random Forest model\n",
    "feature_importance = pd.DataFrame({\n",
    "    'Feature': X_train.columns,\n",
    "    'Importance': best_rf.feature_importances_\n",
    "}).sort_values(by='Importance', ascending=False)\n",
    "\n",
    "# Plot feature importance\n",
    "plt.figure(figsize=(10, 6))\n",
    "sns.barplot(x='Importance', y='Feature', data=feature_importance)\n",
    "plt.title('Feature Importance from Random Forest')\n",
    "plt.show()"
   ]
  },
  {
   "cell_type": "markdown",
   "id": "0a758afe",
   "metadata": {},
   "source": [
    "# Final Project Summary\n",
    "## Predicting House Prices\n",
    "\n",
    "This capstone project aimed to develop a machine learning model to predict house prices based on various features, including house size, number of rooms, amenities, and location factors. The analysis explored how these features influenced house prices, evaluated the performance of different models, and provided actionable insights for real-world decision-making."
   ]
  },
  {
   "cell_type": "markdown",
   "id": "41cf5df8",
   "metadata": {},
   "source": [
    "## Key Steps and Findings\n",
    "\n",
    "### 1. Data Wrangling and Preprocessing\n",
    "- The dataset was cleaned and prepared by handling categorical variables, creating dummy features, and standardizing numerical variables.\n",
    "- Features such as `area`, `bedrooms`, `bathrooms`, `stories`, and `furnishingstatus` were included in the analysis.\n",
    "\n",
    "### 2. Exploratory Data Analysis (EDA)\n",
    "- **Correlation Analysis**:\n",
    "  - Features like `area`, `bathrooms`, and `stories` were highly correlated with house prices.\n",
    "- **Visualizations**:\n",
    "  - Scatterplots showed positive relationships between `area` and `price`.\n",
    "  - Boxplots revealed that houses with more amenities (e.g., guestroom, air conditioning) tended to have higher prices.\n",
    "\n",
    "### 3. Model Development and Evaluation\n",
    "- **Models Tested**:\n",
    "  - **Linear Regression** (Baseline model): RMSE = 1,324,506.96, R² = 0.65.\n",
    "  - **Random Forest Regressor**: RMSE = Lower, R² = Higher (compared to Linear Regression).\n",
    "  - **XGBoost**: Performed similarly to Random Forest but was computationally heavier.\n",
    "- **Best Model**:\n",
    "  - Random Forest emerged as the best-performing model after hyperparameter tuning.\n",
    "\n",
    "### 4. Feature Importance\n",
    "- Feature importance analysis from Random Forest revealed:\n",
    "  - `Area` was the most critical predictor.\n",
    "  - `Bathrooms`, `air conditioning`, and `stories` were also significant contributors.\n",
    "  - Features like `mainroad` and `furnishingstatus` had negligible influence."
   ]
  },
  {
   "cell_type": "markdown",
   "id": "721f1118",
   "metadata": {},
   "source": [
    "## Key Insights and Recommendations\n",
    "\n",
    "### Insights\n",
    "- **Area**: Larger houses command higher prices and should be prioritized in decision-making.\n",
    "- **Bathrooms and Stories**: Additional rooms significantly increase house value.\n",
    "- **Amenities**: Features like air conditioning and guestroom availability positively influence prices.\n",
    "\n",
    "### Recommendations\n",
    "- **For Buyers**:\n",
    "  - Focus on key features like area and number of bathrooms to ensure a fair price.\n",
    "  - Consider additional amenities (e.g., air conditioning) based on budget and priorities.\n",
    "- **For Sellers**:\n",
    "  - Highlight valuable features (e.g., guestroom, proximity to main roads) in listings to maximize prices.\n",
    "- **For Real Estate Agencies**:\n",
    "  - Use the Random Forest model to predict house prices and advise clients on pricing and purchasing decisions."
   ]
  },
  {
   "cell_type": "markdown",
   "id": "95d9b774",
   "metadata": {},
   "source": [
    "## Conclusion\n",
    "\n",
    "This project successfully built a predictive model for house prices using Random Forest, achieving reliable accuracy and actionable insights. By focusing on key features like area, bathrooms, and amenities, stakeholders can make data-driven decisions to optimize pricing strategies. The feature importance further validated the model's utility and highlighted areas for future improvement."
   ]
  },
  {
   "cell_type": "code",
   "execution_count": null,
   "id": "4d604e7e",
   "metadata": {},
   "outputs": [],
   "source": []
  }
 ],
 "metadata": {
  "kernelspec": {
   "display_name": "Python 3 (ipykernel)",
   "language": "python",
   "name": "python3"
  },
  "language_info": {
   "codemirror_mode": {
    "name": "ipython",
    "version": 3
   },
   "file_extension": ".py",
   "mimetype": "text/x-python",
   "name": "python",
   "nbconvert_exporter": "python",
   "pygments_lexer": "ipython3",
   "version": "3.11.5"
  }
 },
 "nbformat": 4,
 "nbformat_minor": 5
}
