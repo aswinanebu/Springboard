{
 "cells": [
  {
   "cell_type": "markdown",
   "metadata": {
    "colab_type": "text",
    "id": "WNK7vbHo-KYU"
   },
   "source": [
    "## Bayesian methods of hyperparameter optimization"
   ]
  },
  {
   "cell_type": "markdown",
   "metadata": {
    "colab_type": "text",
    "id": "BlFdvPwF-KYW"
   },
   "source": [
    "In addition to the random search and the grid search methods for selecting optimal hyperparameters, we can use Bayesian methods of probabilities to select the optimal hyperparameters for an algorithm.\n",
    "\n",
    "In this case study, we will be using the BayesianOptimization library to perform hyperparmater tuning. This library has very good documentation which you can find here: https://github.com/fmfn/BayesianOptimization\n",
    "\n",
    "You will need to install the Bayesian optimization module. Running a cell with an exclamation point in the beginning of the command will run it as a shell command — please do this to install this module from our notebook in the cell below."
   ]
  },
  {
   "cell_type": "code",
   "execution_count": 4,
   "metadata": {
    "colab": {},
    "colab_type": "code",
    "id": "Pssx080d-Ulf"
   },
   "outputs": [
    {
     "name": "stdout",
     "output_type": "stream",
     "text": [
      "Collecting bayesian-optimization\n",
      "  Obtaining dependency information for bayesian-optimization from https://files.pythonhosted.org/packages/c5/fd/5998d2f9d693b5ef2954e3d9ddb96ede395373faa5d9bcfbd7da4b945d47/bayesian_optimization-1.5.1-py3-none-any.whl.metadata\n",
      "  Downloading bayesian_optimization-1.5.1-py3-none-any.whl.metadata (16 kB)\n",
      "Collecting lightgbm\n",
      "  Obtaining dependency information for lightgbm from https://files.pythonhosted.org/packages/d9/28/3be76b591a2e14a031b681b8283acf1dec2ad521f6f1701b7957df68c466/lightgbm-4.5.0-py3-none-win_amd64.whl.metadata\n",
      "  Downloading lightgbm-4.5.0-py3-none-win_amd64.whl.metadata (17 kB)\n",
      "Collecting catboost\n",
      "  Obtaining dependency information for catboost from https://files.pythonhosted.org/packages/1c/e1/78e635a1e5f0066bd02a1ecfd658ad09fe30d275c65c2d0dd76fe253e648/catboost-1.2.7-cp311-cp311-win_amd64.whl.metadata\n",
      "  Downloading catboost-1.2.7-cp311-cp311-win_amd64.whl.metadata (1.2 kB)\n",
      "Requirement already satisfied: colorama<0.5.0,>=0.4.6 in c:\\users\\drasw\\anaconda3\\lib\\site-packages (from bayesian-optimization) (0.4.6)\n",
      "Collecting numpy>=1.25 (from bayesian-optimization)\n",
      "  Obtaining dependency information for numpy>=1.25 from https://files.pythonhosted.org/packages/d4/96/450054662295125af861d48d2c4bc081dadcf1974a879b2104613157aa62/numpy-2.1.2-cp311-cp311-win_amd64.whl.metadata\n",
      "  Downloading numpy-2.1.2-cp311-cp311-win_amd64.whl.metadata (59 kB)\n",
      "     ---------------------------------------- 0.0/59.7 kB ? eta -:--:--\n",
      "     ---------------------------------------- 59.7/59.7 kB 1.5 MB/s eta 0:00:00\n",
      "Requirement already satisfied: scikit-learn<2.0.0,>=1.0.0 in c:\\users\\drasw\\anaconda3\\lib\\site-packages (from bayesian-optimization) (1.3.0)\n",
      "Requirement already satisfied: scipy<2.0.0,>=1.0.0 in c:\\users\\drasw\\anaconda3\\lib\\site-packages (from bayesian-optimization) (1.11.1)\n",
      "Collecting graphviz (from catboost)\n",
      "  Obtaining dependency information for graphviz from https://files.pythonhosted.org/packages/00/be/d59db2d1d52697c6adc9eacaf50e8965b6345cc143f671e1ed068818d5cf/graphviz-0.20.3-py3-none-any.whl.metadata\n",
      "  Downloading graphviz-0.20.3-py3-none-any.whl.metadata (12 kB)\n",
      "Requirement already satisfied: matplotlib in c:\\users\\drasw\\anaconda3\\lib\\site-packages (from catboost) (3.7.2)\n",
      "Collecting numpy>=1.25 (from bayesian-optimization)\n",
      "  Obtaining dependency information for numpy>=1.25 from https://files.pythonhosted.org/packages/3f/6b/5610004206cf7f8e7ad91c5a85a8c71b2f2f8051a0c0c4d5916b76d6cbb2/numpy-1.26.4-cp311-cp311-win_amd64.whl.metadata\n",
      "  Downloading numpy-1.26.4-cp311-cp311-win_amd64.whl.metadata (61 kB)\n",
      "     ---------------------------------------- 0.0/61.0 kB ? eta -:--:--\n",
      "     ---------------------------------------- 61.0/61.0 kB ? eta 0:00:00\n",
      "Requirement already satisfied: pandas>=0.24 in c:\\users\\drasw\\anaconda3\\lib\\site-packages (from catboost) (2.0.3)\n",
      "Requirement already satisfied: plotly in c:\\users\\drasw\\anaconda3\\lib\\site-packages (from catboost) (5.9.0)\n",
      "Requirement already satisfied: six in c:\\users\\drasw\\anaconda3\\lib\\site-packages (from catboost) (1.16.0)\n",
      "Requirement already satisfied: python-dateutil>=2.8.2 in c:\\users\\drasw\\anaconda3\\lib\\site-packages (from pandas>=0.24->catboost) (2.8.2)\n",
      "Requirement already satisfied: pytz>=2020.1 in c:\\users\\drasw\\anaconda3\\lib\\site-packages (from pandas>=0.24->catboost) (2023.3.post1)\n",
      "Requirement already satisfied: tzdata>=2022.1 in c:\\users\\drasw\\anaconda3\\lib\\site-packages (from pandas>=0.24->catboost) (2023.3)\n",
      "Requirement already satisfied: joblib>=1.1.1 in c:\\users\\drasw\\anaconda3\\lib\\site-packages (from scikit-learn<2.0.0,>=1.0.0->bayesian-optimization) (1.2.0)\n",
      "Requirement already satisfied: threadpoolctl>=2.0.0 in c:\\users\\drasw\\anaconda3\\lib\\site-packages (from scikit-learn<2.0.0,>=1.0.0->bayesian-optimization) (2.2.0)\n",
      "Requirement already satisfied: contourpy>=1.0.1 in c:\\users\\drasw\\anaconda3\\lib\\site-packages (from matplotlib->catboost) (1.0.5)\n",
      "Requirement already satisfied: cycler>=0.10 in c:\\users\\drasw\\anaconda3\\lib\\site-packages (from matplotlib->catboost) (0.11.0)\n",
      "Requirement already satisfied: fonttools>=4.22.0 in c:\\users\\drasw\\anaconda3\\lib\\site-packages (from matplotlib->catboost) (4.25.0)\n",
      "Requirement already satisfied: kiwisolver>=1.0.1 in c:\\users\\drasw\\anaconda3\\lib\\site-packages (from matplotlib->catboost) (1.4.4)\n",
      "Requirement already satisfied: packaging>=20.0 in c:\\users\\drasw\\anaconda3\\lib\\site-packages (from matplotlib->catboost) (23.1)\n",
      "Requirement already satisfied: pillow>=6.2.0 in c:\\users\\drasw\\anaconda3\\lib\\site-packages (from matplotlib->catboost) (10.0.1)\n",
      "Requirement already satisfied: pyparsing<3.1,>=2.3.1 in c:\\users\\drasw\\anaconda3\\lib\\site-packages (from matplotlib->catboost) (3.0.9)\n",
      "Requirement already satisfied: tenacity>=6.2.0 in c:\\users\\drasw\\anaconda3\\lib\\site-packages (from plotly->catboost) (8.2.2)\n",
      "Downloading bayesian_optimization-1.5.1-py3-none-any.whl (28 kB)\n",
      "Downloading lightgbm-4.5.0-py3-none-win_amd64.whl (1.4 MB)\n",
      "   ---------------------------------------- 0.0/1.4 MB ? eta -:--:--\n",
      "   ---------------------------------------  1.4/1.4 MB 30.5 MB/s eta 0:00:01\n",
      "   ---------------------------------------- 1.4/1.4 MB 30.5 MB/s eta 0:00:00\n",
      "Downloading catboost-1.2.7-cp311-cp311-win_amd64.whl (101.7 MB)\n",
      "   ---------------------------------------- 0.0/101.7 MB ? eta -:--:--\n",
      "   - -------------------------------------- 2.6/101.7 MB 54.5 MB/s eta 0:00:02\n",
      "   - -------------------------------------- 4.7/101.7 MB 50.3 MB/s eta 0:00:02\n",
      "   -- ------------------------------------- 5.8/101.7 MB 41.3 MB/s eta 0:00:03\n",
      "   --- ------------------------------------ 9.3/101.7 MB 49.5 MB/s eta 0:00:02\n",
      "   ---- ----------------------------------- 11.7/101.7 MB 50.4 MB/s eta 0:00:02\n",
      "   ----- ---------------------------------- 14.4/101.7 MB 50.4 MB/s eta 0:00:02\n",
      "   ------ --------------------------------- 16.5/101.7 MB 54.4 MB/s eta 0:00:02\n",
      "   ------- -------------------------------- 18.7/101.7 MB 50.4 MB/s eta 0:00:02\n",
      "   -------- ------------------------------- 21.3/101.7 MB 54.4 MB/s eta 0:00:02\n",
      "   --------- ------------------------------ 23.8/101.7 MB 50.4 MB/s eta 0:00:02\n",
      "   ---------- ----------------------------- 26.2/101.7 MB 50.4 MB/s eta 0:00:02\n",
      "   ----------- ---------------------------- 28.5/101.7 MB 50.4 MB/s eta 0:00:02\n",
      "   ------------ --------------------------- 30.9/101.7 MB 54.7 MB/s eta 0:00:02\n",
      "   ------------- -------------------------- 33.3/101.7 MB 54.7 MB/s eta 0:00:02\n",
      "   ------------- -------------------------- 35.4/101.7 MB 50.4 MB/s eta 0:00:02\n",
      "   --------------- ------------------------ 38.3/101.7 MB 54.4 MB/s eta 0:00:02\n",
      "   --------------- ------------------------ 40.5/101.7 MB 50.4 MB/s eta 0:00:02\n",
      "   ---------------- ----------------------- 42.7/101.7 MB 50.1 MB/s eta 0:00:02\n",
      "   ----------------- ---------------------- 45.5/101.7 MB 54.7 MB/s eta 0:00:02\n",
      "   ------------------ --------------------- 48.0/101.7 MB 54.7 MB/s eta 0:00:01\n",
      "   ------------------- -------------------- 50.1/101.7 MB 54.7 MB/s eta 0:00:01\n",
      "   -------------------- ------------------- 53.0/101.7 MB 59.5 MB/s eta 0:00:01\n",
      "   --------------------- ------------------ 54.4/101.7 MB 54.7 MB/s eta 0:00:01\n",
      "   --------------------- ------------------ 54.9/101.7 MB 43.5 MB/s eta 0:00:02\n",
      "   --------------------- ------------------ 55.7/101.7 MB 36.3 MB/s eta 0:00:02\n",
      "   ---------------------- ----------------- 57.0/101.7 MB 34.4 MB/s eta 0:00:02\n",
      "   ----------------------- ---------------- 59.0/101.7 MB 32.8 MB/s eta 0:00:02\n",
      "   ----------------------- ---------------- 60.5/101.7 MB 32.8 MB/s eta 0:00:02\n",
      "   ------------------------ --------------- 62.3/101.7 MB 29.7 MB/s eta 0:00:02\n",
      "   ------------------------- -------------- 63.9/101.7 MB 28.5 MB/s eta 0:00:02\n",
      "   ------------------------- -------------- 65.3/101.7 MB 34.4 MB/s eta 0:00:02\n",
      "   -------------------------- ------------- 66.3/101.7 MB 32.7 MB/s eta 0:00:02\n",
      "   -------------------------- ------------- 67.2/101.7 MB 31.2 MB/s eta 0:00:02\n",
      "   -------------------------- ------------- 67.7/101.7 MB 28.4 MB/s eta 0:00:02\n",
      "   --------------------------- ------------ 69.2/101.7 MB 27.3 MB/s eta 0:00:02\n",
      "   --------------------------- ------------ 70.5/101.7 MB 27.3 MB/s eta 0:00:02\n",
      "   ---------------------------- ----------- 72.0/101.7 MB 26.2 MB/s eta 0:00:02\n",
      "   ---------------------------- ----------- 73.7/101.7 MB 26.2 MB/s eta 0:00:02\n",
      "   ----------------------------- ---------- 75.2/101.7 MB 26.2 MB/s eta 0:00:02\n",
      "   ------------------------------ --------- 76.9/101.7 MB 28.4 MB/s eta 0:00:01\n",
      "   ------------------------------- -------- 78.9/101.7 MB 34.4 MB/s eta 0:00:01\n",
      "   ------------------------------- -------- 81.1/101.7 MB 38.5 MB/s eta 0:00:01\n",
      "   -------------------------------- ------- 82.5/101.7 MB 40.9 MB/s eta 0:00:01\n",
      "   --------------------------------- ------ 85.2/101.7 MB 43.7 MB/s eta 0:00:01\n",
      "   ---------------------------------- ----- 87.2/101.7 MB 43.7 MB/s eta 0:00:01\n",
      "   ----------------------------------- ---- 89.2/101.7 MB 43.7 MB/s eta 0:00:01\n",
      "   ----------------------------------- ---- 91.1/101.7 MB 43.7 MB/s eta 0:00:01\n",
      "   ------------------------------------ --- 92.9/101.7 MB 43.5 MB/s eta 0:00:01\n",
      "   ------------------------------------- -- 94.7/101.7 MB 40.9 MB/s eta 0:00:01\n",
      "   ------------------------------------- -- 96.6/101.7 MB 40.9 MB/s eta 0:00:01\n",
      "   -------------------------------------- - 98.6/101.7 MB 40.9 MB/s eta 0:00:01\n",
      "   --------------------------------------  100.7/101.7 MB 40.9 MB/s eta 0:00:01\n",
      "   --------------------------------------  101.7/101.7 MB 40.9 MB/s eta 0:00:01\n",
      "   --------------------------------------  101.7/101.7 MB 40.9 MB/s eta 0:00:01\n",
      "   --------------------------------------  101.7/101.7 MB 40.9 MB/s eta 0:00:01\n",
      "   --------------------------------------  101.7/101.7 MB 40.9 MB/s eta 0:00:01\n",
      "   --------------------------------------  101.7/101.7 MB 40.9 MB/s eta 0:00:01\n",
      "   --------------------------------------- 101.7/101.7 MB 12.6 MB/s eta 0:00:00\n",
      "Downloading numpy-1.26.4-cp311-cp311-win_amd64.whl (15.8 MB)\n",
      "   ---------------------------------------- 0.0/15.8 MB ? eta -:--:--\n",
      "   ------- -------------------------------- 2.9/15.8 MB 46.5 MB/s eta 0:00:01\n",
      "   ----------- ---------------------------- 4.5/15.8 MB 48.1 MB/s eta 0:00:01\n",
      "   ---------------- ----------------------- 6.6/15.8 MB 42.1 MB/s eta 0:00:01\n",
      "   --------------------- ------------------ 8.5/15.8 MB 42.0 MB/s eta 0:00:01\n",
      "   -------------------------- ------------- 10.3/15.8 MB 43.5 MB/s eta 0:00:01\n",
      "   ------------------------------ --------- 12.0/15.8 MB 38.6 MB/s eta 0:00:01\n",
      "   ---------------------------------- ----- 13.8/15.8 MB 40.9 MB/s eta 0:00:01\n",
      "   -------------------------------------- - 15.2/15.8 MB 36.4 MB/s eta 0:00:01\n",
      "   ---------------------------------------  15.8/15.8 MB 36.3 MB/s eta 0:00:01\n",
      "   ---------------------------------------  15.8/15.8 MB 36.3 MB/s eta 0:00:01\n",
      "   ---------------------------------------  15.8/15.8 MB 36.3 MB/s eta 0:00:01\n",
      "   ---------------------------------------  15.8/15.8 MB 36.3 MB/s eta 0:00:01\n",
      "   ---------------------------------------  15.8/15.8 MB 36.3 MB/s eta 0:00:01\n",
      "   ---------------------------------------  15.8/15.8 MB 36.3 MB/s eta 0:00:01\n",
      "   ---------------------------------------- 15.8/15.8 MB 17.7 MB/s eta 0:00:00\n",
      "Downloading graphviz-0.20.3-py3-none-any.whl (47 kB)\n",
      "   ---------------------------------------- 0.0/47.1 kB ? eta -:--:--\n",
      "   ---------------------------------------- 47.1/47.1 kB 2.3 MB/s eta 0:00:00\n",
      "Installing collected packages: numpy, graphviz, lightgbm, catboost, bayesian-optimization\n",
      "  Attempting uninstall: numpy\n",
      "    Found existing installation: numpy 1.24.3\n",
      "    Uninstalling numpy-1.24.3:\n",
      "      Successfully uninstalled numpy-1.24.3\n",
      "Successfully installed bayesian-optimization-1.5.1 catboost-1.2.7 graphviz-0.20.3 lightgbm-4.5.0 numpy-1.26.4\n"
     ]
    },
    {
     "name": "stderr",
     "output_type": "stream",
     "text": [
      "ERROR: pip's dependency resolver does not currently take into account all the packages that are installed. This behaviour is the source of the following dependency conflicts.\n",
      "gensim 4.3.0 requires FuzzyTM>=0.4.0, which is not installed.\n",
      "tables 3.8.0 requires blosc2~=2.0.0, which is not installed.\n",
      "tables 3.8.0 requires cython>=0.29.21, which is not installed.\n",
      "numba 0.57.1 requires numpy<1.25,>=1.21, but you have numpy 1.26.4 which is incompatible.\n"
     ]
    }
   ],
   "source": [
    "! pip install bayesian-optimization lightgbm catboost"
   ]
  },
  {
   "cell_type": "code",
   "execution_count": 5,
   "metadata": {
    "ExecuteTime": {
     "end_time": "2019-04-22T16:39:09.312682Z",
     "start_time": "2019-04-22T16:39:09.309208Z"
    },
    "_kg_hide-input": true,
    "colab": {},
    "colab_type": "code",
    "id": "l9nfFTyj-KYY"
   },
   "outputs": [],
   "source": [
    "import warnings\n",
    "warnings.filterwarnings('ignore')\n",
    "from sklearn.preprocessing import LabelEncoder\n",
    "import numpy as np\n",
    "import pandas as pd\n",
    "import lightgbm\n",
    "from bayes_opt import BayesianOptimization\n",
    "from catboost import CatBoostClassifier, cv, Pool"
   ]
  },
  {
   "cell_type": "code",
   "execution_count": 6,
   "metadata": {
    "colab": {
     "base_uri": "https://localhost:8080/",
     "height": 85
    },
    "colab_type": "code",
    "id": "D16Dquw1AAK0",
    "outputId": "44167587-f22e-4bf5-a816-e2bcfdc6c4ee"
   },
   "outputs": [
    {
     "data": {
      "text/plain": [
       "['.anaconda',\n",
       " '.conda',\n",
       " '.condarc',\n",
       " '.continuum',\n",
       " '.ipynb_checkpoints',\n",
       " '.ipython',\n",
       " '.jupyter',\n",
       " '.matplotlib',\n",
       " '.ms-ad',\n",
       " '.ssh',\n",
       " 'a.env',\n",
       " 'anaconda3',\n",
       " 'api_data_wrangling_completed (1).ipynb',\n",
       " 'AppData',\n",
       " 'AppleStore.csv',\n",
       " 'appleStore_description.csv',\n",
       " 'Application Data',\n",
       " 'Apps project - Tier 3 - Complete -Aswin.ipynb',\n",
       " 'Aswin_02_data_wrangling.ipynb',\n",
       " 'Aswin_03_exploratory_data_analysis.ipynb',\n",
       " 'Aswin_04_preprocessing_and_training.ipynb',\n",
       " 'Aswin_05_modeling.ipynb',\n",
       " 'Aswin_api_data_wrangling_mini_project.ipynb',\n",
       " 'Bayesian_optimization_case_study.ipynb',\n",
       " 'boston.csv',\n",
       " 'Cerebral_Stroke_Prediction (1).ipynb',\n",
       " 'Cerebral_stroke_tb.db',\n",
       " 'cleaningfinal.ipynb',\n",
       " 'Completed_Mini_Project_Linear_Regression.ipynb',\n",
       " 'connection.ipynb',\n",
       " 'Contacts',\n",
       " 'Cookies',\n",
       " 'Cosine_Similarity_Case_Study_Aswin.ipynb',\n",
       " 'CostReport_2021_Final (1).csv',\n",
       " 'data.csv',\n",
       " 'Decision Tree Specialty Coffee Case Study - Tier 3_ Aswin.ipynb',\n",
       " 'Desktop',\n",
       " 'diabetes.csv',\n",
       " 'Dictionaries and PANDAS_tutorial.ipynb',\n",
       " 'DICTIONARY.TXT',\n",
       " 'distance_dataset (1).csv',\n",
       " 'distance_dataset.csv',\n",
       " 'Documents',\n",
       " 'Downloads',\n",
       " 'Euclidean_and_Manhattan_Distances_Case_Study_Aswin.ipynb',\n",
       " 'Favorites',\n",
       " 'flight_delays_test.csv',\n",
       " 'flight_delays_train.csv',\n",
       " 'Frequentist Inference Case Study - Part A (3).ipynb',\n",
       " 'Frequentist Inference Case Study - Part B (2).ipynb',\n",
       " 'Frequentist Inference Case Study - Part BASWIN (2).ipynb',\n",
       " 'googleplaystore.csv',\n",
       " 'googleplaystore_user_reviews.csv',\n",
       " 'Gradient Boosting Case Study_Aswin.ipynb',\n",
       " 'GridSearchKNN_Case_Study.ipynb',\n",
       " 'GridSearchKNN_Case_Study_Aswin.ipynb',\n",
       " 'Healthcare_Cost_Prediction_Data_Wrangling.ipynb',\n",
       " 'heart.xlsx',\n",
       " 'insurance2.csv',\n",
       " 'INTRO GROUP-8 FINAL PROJECT.ipynb',\n",
       " 'Int_python2.ipynb',\n",
       " 'Linear Regression.ipynb',\n",
       " 'Links',\n",
       " 'Local Settings',\n",
       " 'Logistic Regression Advanced Case Study.ipynb',\n",
       " 'Logistic Regression Advanced Case Study_Aswin.ipynb',\n",
       " 'Mini_Project_Linear_Regression (1).ipynb',\n",
       " 'Mini_Project_Linear_Regression-Copy1.ipynb',\n",
       " 'Mini_Project_Linear_Regression.ipynb',\n",
       " 'Music',\n",
       " 'My Documents',\n",
       " 'mysql',\n",
       " 'netflix_data.csv',\n",
       " 'netflix_project.ipynb',\n",
       " 'NetHood',\n",
       " 'new array.npy',\n",
       " 'NTUSER.dat',\n",
       " 'NTUSER.dat.bak.{0F9ECD29-0C5A-461F-81AD-B878DF86FA21}',\n",
       " 'ntuser.dat.LOG1',\n",
       " 'ntuser.dat.LOG2',\n",
       " 'NTUSER.dat{4787db11-3b6b-11ed-a05e-806e6f6e6963}.TM.blf',\n",
       " 'NTUSER.dat{4787db11-3b6b-11ed-a05e-806e6f6e6963}.TMContainer00000000000000000001.regtrans-ms',\n",
       " 'NTUSER.dat{4787db11-3b6b-11ed-a05e-806e6f6e6963}.TMContainer00000000000000000002.regtrans-ms',\n",
       " 'ntuser.ini',\n",
       " 'OneDrive',\n",
       " 'output.csv',\n",
       " 'output.xlsx',\n",
       " 'PatientInfo.csv',\n",
       " 'Pictures',\n",
       " 'PrintHood',\n",
       " 'Python_tutorial.ipynb',\n",
       " 'RandomForest_casestudy_covid19.ipynb',\n",
       " 'RandomForest_casestudy_covid19_Aswin.ipynb',\n",
       " 'Recent',\n",
       " 'RRDinerCoffeeData.csv',\n",
       " 'Saved Games',\n",
       " 'Searches',\n",
       " 'SendTo',\n",
       " 'Springboard Decision Tree Specialty Coffee Case Study - Tier 3.ipynb',\n",
       " 'Springboard Regression Case Study - the Red Wine Dataset - Tier 3.ipynb',\n",
       " 'Springboard Regression Case Study - the Red Wine Dataset - Tier 3_Aswin.ipynb',\n",
       " 'Start Menu',\n",
       " 'Templates',\n",
       " 'titanic.csv',\n",
       " 'Tracing',\n",
       " 'tree.dot',\n",
       " 'try.ipynb',\n",
       " 'Unit 14.5 Gradient Boosting Case Study.ipynb',\n",
       " 'Unit 4 Challenge - Tier 3.ipynb',\n",
       " 'UnityCare_Update_4_18.ipynb',\n",
       " 'Unity_Care_5_pillars_details_updated.csv',\n",
       " 'Unity_Care_LOS_DR.csv',\n",
       " 'Untitled.ipynb',\n",
       " 'Untitled1.ipynb',\n",
       " 'Untitled2.ipynb',\n",
       " 'Untitled3.ipynb',\n",
       " 'Videos',\n",
       " 'Visualization_tutorial.ipynb',\n",
       " 'wineQualityReds.csv']"
      ]
     },
     "execution_count": 6,
     "metadata": {},
     "output_type": "execute_result"
    }
   ],
   "source": [
    "import os\n",
    "os.listdir()"
   ]
  },
  {
   "cell_type": "markdown",
   "metadata": {
    "ExecuteTime": {
     "end_time": "2019-04-22T14:48:15.929012Z",
     "start_time": "2019-04-22T14:48:15.926574Z"
    },
    "colab_type": "text",
    "id": "AkBt3yds-KYu"
   },
   "source": [
    "## How does Bayesian optimization work?"
   ]
  },
  {
   "cell_type": "markdown",
   "metadata": {
    "colab_type": "text",
    "id": "E1kyBCUs-KYv"
   },
   "source": [
    "Bayesian optimization works by constructing a posterior distribution of functions (Gaussian process) that best describes the function you want to optimize. As the number of observations grows, the posterior distribution improves, and the algorithm becomes more certain of which regions in parameter space are worth exploring and which are not, as seen in the picture below."
   ]
  },
  {
   "cell_type": "markdown",
   "metadata": {
    "colab_type": "text",
    "id": "gAdHF72R-KYw"
   },
   "source": [
    "<img src=\"https://github.com/fmfn/BayesianOptimization/blob/master/examples/bo_example.png?raw=true\" />\n",
    "As you iterate over and over, the algorithm balances its needs of exploration and exploitation while taking into account what it knows about the target function. At each step, a Gaussian Process is fitted to the known samples (points previously explored), and the posterior distribution, combined with an exploration strategy (such as UCB — aka Upper Confidence Bound), or EI (Expected Improvement). This process is used to determine the next point that should be explored (see the gif below).\n",
    "<img src=\"https://github.com/fmfn/BayesianOptimization/raw/master/examples/bayesian_optimization.gif\" />"
   ]
  },
  {
   "cell_type": "markdown",
   "metadata": {
    "colab_type": "text",
    "id": "RTP8KUlLoYzu"
   },
   "source": [
    "## Let's look at a simple example"
   ]
  },
  {
   "cell_type": "markdown",
   "metadata": {
    "colab_type": "text",
    "id": "crpPqKdC-KYx"
   },
   "source": [
    "The first step is to create an optimizer. It uses two items:\n",
    "* function to optimize\n",
    "* bounds of parameters\n",
    "\n",
    "The function is the procedure that counts metrics of our model quality. The important thing is that our optimization will maximize the value on function. Smaller metrics are best. Hint: don't forget to use negative metric values."
   ]
  },
  {
   "cell_type": "markdown",
   "metadata": {
    "colab_type": "text",
    "id": "e09ciF8gpTfr"
   },
   "source": [
    "Here we define our simple function we want to optimize."
   ]
  },
  {
   "cell_type": "code",
   "execution_count": 7,
   "metadata": {
    "colab": {},
    "colab_type": "code",
    "id": "ofwvnfEwo5mG"
   },
   "outputs": [],
   "source": [
    "def simple_func(a, b):\n",
    "    return a + b"
   ]
  },
  {
   "cell_type": "markdown",
   "metadata": {
    "colab_type": "text",
    "id": "XCGsdciCpeI3"
   },
   "source": [
    "Now, we define our bounds of the parameters to optimize, within the Bayesian optimizer."
   ]
  },
  {
   "cell_type": "code",
   "execution_count": 8,
   "metadata": {
    "colab": {},
    "colab_type": "code",
    "id": "4jLYW2qnpOFr"
   },
   "outputs": [],
   "source": [
    "optimizer = BayesianOptimization(\n",
    "    simple_func,\n",
    "    {'a': (1, 3),\n",
    "    'b': (4, 7)})"
   ]
  },
  {
   "cell_type": "markdown",
   "metadata": {
    "colab_type": "text",
    "id": "dg6LdYx8pq2T"
   },
   "source": [
    "These are the main parameters of this function:\n",
    "\n",
    "* **n_iter:** This is how many steps of Bayesian optimization you want to perform. The more steps, the more likely you are to find a good maximum.\n",
    "\n",
    "* **init_points:** This is how many steps of random exploration you want to perform. Random exploration can help by diversifying the exploration space."
   ]
  },
  {
   "cell_type": "markdown",
   "metadata": {
    "colab_type": "text",
    "id": "i-GKMJ1uqMYv"
   },
   "source": [
    "Let's run an example where we use the optimizer to find the best values to maximize the target value for a and b given the inputs of 3 and 2."
   ]
  },
  {
   "cell_type": "code",
   "execution_count": 9,
   "metadata": {
    "colab": {
     "base_uri": "https://localhost:8080/",
     "height": 153
    },
    "colab_type": "code",
    "id": "Oy44Ro7wqNat",
    "outputId": "9cc64d54-b1e6-46d1-dc29-4c0039a1c72d"
   },
   "outputs": [
    {
     "name": "stdout",
     "output_type": "stream",
     "text": [
      "|   iter    |  target   |     a     |     b     |\n",
      "-------------------------------------------------\n",
      "| \u001b[39m1        \u001b[39m | \u001b[39m7.869    \u001b[39m | \u001b[39m1.525    \u001b[39m | \u001b[39m6.344    \u001b[39m |\n",
      "| \u001b[35m2        \u001b[39m | \u001b[35m8.82     \u001b[39m | \u001b[35m2.89     \u001b[39m | \u001b[35m5.93     \u001b[39m |\n",
      "| \u001b[39m3        \u001b[39m | \u001b[39m8.282    \u001b[39m | \u001b[39m2.219    \u001b[39m | \u001b[39m6.063    \u001b[39m |\n",
      "| \u001b[39m4        \u001b[39m | \u001b[39m8.178    \u001b[39m | \u001b[39m3.0      \u001b[39m | \u001b[39m5.178    \u001b[39m |\n",
      "| \u001b[35m5        \u001b[39m | \u001b[35m8.824    \u001b[39m | \u001b[35m2.892    \u001b[39m | \u001b[35m5.932    \u001b[39m |\n",
      "=================================================\n"
     ]
    }
   ],
   "source": [
    "optimizer.maximize(3,2)"
   ]
  },
  {
   "cell_type": "markdown",
   "metadata": {
    "colab_type": "text",
    "id": "tyKFMF2Hq2Sx"
   },
   "source": [
    "Great, now let's print the best parameters and the associated maximized target."
   ]
  },
  {
   "cell_type": "code",
   "execution_count": 10,
   "metadata": {
    "colab": {
     "base_uri": "https://localhost:8080/",
     "height": 51
    },
    "colab_type": "code",
    "id": "_H6DixyfscV_",
    "outputId": "fd0c35d7-e30d-4d30-9ab2-12c0fa837971"
   },
   "outputs": [
    {
     "name": "stdout",
     "output_type": "stream",
     "text": [
      "{'a': 2.8920992682168145, 'b': 5.931590237990474}\n"
     ]
    },
    {
     "data": {
      "text/plain": [
       "8.82368950620729"
      ]
     },
     "execution_count": 10,
     "metadata": {},
     "output_type": "execute_result"
    }
   ],
   "source": [
    "print(optimizer.max['params']);optimizer.max['target']"
   ]
  },
  {
   "cell_type": "markdown",
   "metadata": {
    "colab_type": "text",
    "id": "tQ1T1V6Mspi4"
   },
   "source": [
    "## Test it on real data using the Light GBM"
   ]
  },
  {
   "cell_type": "markdown",
   "metadata": {
    "colab_type": "text",
    "id": "y_oGwREZkm4h"
   },
   "source": [
    "The dataset we will be working with is the famous flight departures dataset. Our modeling goal will be to predict if a flight departure is going to be delayed by 15 minutes based on the other attributes in our dataset. As part of this modeling exercise, we will use Bayesian hyperparameter optimization to identify the best parameters for our model."
   ]
  },
  {
   "cell_type": "markdown",
   "metadata": {
    "colab_type": "text",
    "id": "abYSagjQANDZ"
   },
   "source": [
    "**<font color='teal'> You can load the zipped csv files just as you would regular csv files using Pandas read_csv. In the next cell load the train and test data into two seperate dataframes. </font>**\n"
   ]
  },
  {
   "cell_type": "code",
   "execution_count": 11,
   "metadata": {
    "colab": {},
    "colab_type": "code",
    "id": "EWKBApVuAeJe"
   },
   "outputs": [],
   "source": [
    "train_df = pd.read_csv('flight_delays_train.csv')\n",
    "test_df = pd.read_csv('flight_delays_test.csv')"
   ]
  },
  {
   "cell_type": "markdown",
   "metadata": {
    "colab_type": "text",
    "id": "OapNcT9Eikis"
   },
   "source": [
    "**<font color='teal'> Print the top five rows of the train dataframe and review the columns in the data. </font>**"
   ]
  },
  {
   "cell_type": "code",
   "execution_count": 12,
   "metadata": {
    "colab": {
     "base_uri": "https://localhost:8080/",
     "height": 204
    },
    "colab_type": "code",
    "id": "__4cXZ8iiYaC",
    "outputId": "8718ad4b-8955-486c-9ae8-1dee6aa6c2fb"
   },
   "outputs": [
    {
     "data": {
      "text/html": [
       "<div>\n",
       "<style scoped>\n",
       "    .dataframe tbody tr th:only-of-type {\n",
       "        vertical-align: middle;\n",
       "    }\n",
       "\n",
       "    .dataframe tbody tr th {\n",
       "        vertical-align: top;\n",
       "    }\n",
       "\n",
       "    .dataframe thead th {\n",
       "        text-align: right;\n",
       "    }\n",
       "</style>\n",
       "<table border=\"1\" class=\"dataframe\">\n",
       "  <thead>\n",
       "    <tr style=\"text-align: right;\">\n",
       "      <th></th>\n",
       "      <th>Month</th>\n",
       "      <th>DayofMonth</th>\n",
       "      <th>DayOfWeek</th>\n",
       "      <th>DepTime</th>\n",
       "      <th>UniqueCarrier</th>\n",
       "      <th>Origin</th>\n",
       "      <th>Dest</th>\n",
       "      <th>Distance</th>\n",
       "      <th>dep_delayed_15min</th>\n",
       "    </tr>\n",
       "  </thead>\n",
       "  <tbody>\n",
       "    <tr>\n",
       "      <th>0</th>\n",
       "      <td>c-8</td>\n",
       "      <td>c-21</td>\n",
       "      <td>c-7</td>\n",
       "      <td>1934</td>\n",
       "      <td>AA</td>\n",
       "      <td>ATL</td>\n",
       "      <td>DFW</td>\n",
       "      <td>732</td>\n",
       "      <td>N</td>\n",
       "    </tr>\n",
       "    <tr>\n",
       "      <th>1</th>\n",
       "      <td>c-4</td>\n",
       "      <td>c-20</td>\n",
       "      <td>c-3</td>\n",
       "      <td>1548</td>\n",
       "      <td>US</td>\n",
       "      <td>PIT</td>\n",
       "      <td>MCO</td>\n",
       "      <td>834</td>\n",
       "      <td>N</td>\n",
       "    </tr>\n",
       "    <tr>\n",
       "      <th>2</th>\n",
       "      <td>c-9</td>\n",
       "      <td>c-2</td>\n",
       "      <td>c-5</td>\n",
       "      <td>1422</td>\n",
       "      <td>XE</td>\n",
       "      <td>RDU</td>\n",
       "      <td>CLE</td>\n",
       "      <td>416</td>\n",
       "      <td>N</td>\n",
       "    </tr>\n",
       "    <tr>\n",
       "      <th>3</th>\n",
       "      <td>c-11</td>\n",
       "      <td>c-25</td>\n",
       "      <td>c-6</td>\n",
       "      <td>1015</td>\n",
       "      <td>OO</td>\n",
       "      <td>DEN</td>\n",
       "      <td>MEM</td>\n",
       "      <td>872</td>\n",
       "      <td>N</td>\n",
       "    </tr>\n",
       "    <tr>\n",
       "      <th>4</th>\n",
       "      <td>c-10</td>\n",
       "      <td>c-7</td>\n",
       "      <td>c-6</td>\n",
       "      <td>1828</td>\n",
       "      <td>WN</td>\n",
       "      <td>MDW</td>\n",
       "      <td>OMA</td>\n",
       "      <td>423</td>\n",
       "      <td>Y</td>\n",
       "    </tr>\n",
       "  </tbody>\n",
       "</table>\n",
       "</div>"
      ],
      "text/plain": [
       "  Month DayofMonth DayOfWeek  DepTime UniqueCarrier Origin Dest  Distance  \\\n",
       "0   c-8       c-21       c-7     1934            AA    ATL  DFW       732   \n",
       "1   c-4       c-20       c-3     1548            US    PIT  MCO       834   \n",
       "2   c-9        c-2       c-5     1422            XE    RDU  CLE       416   \n",
       "3  c-11       c-25       c-6     1015            OO    DEN  MEM       872   \n",
       "4  c-10        c-7       c-6     1828            WN    MDW  OMA       423   \n",
       "\n",
       "  dep_delayed_15min  \n",
       "0                 N  \n",
       "1                 N  \n",
       "2                 N  \n",
       "3                 N  \n",
       "4                 Y  "
      ]
     },
     "execution_count": 12,
     "metadata": {},
     "output_type": "execute_result"
    }
   ],
   "source": [
    "train_df.head()"
   ]
  },
  {
   "cell_type": "markdown",
   "metadata": {
    "colab_type": "text",
    "id": "UxGBsPQhffgd"
   },
   "source": [
    "**<font color='teal'> Use the describe function to review the numeric columns in the train dataframe. </font>**"
   ]
  },
  {
   "cell_type": "code",
   "execution_count": 13,
   "metadata": {
    "colab": {
     "base_uri": "https://localhost:8080/",
     "height": 297
    },
    "colab_type": "code",
    "id": "_bRRKG3DAtae",
    "outputId": "7cfb9975-ec97-422c-abbd-98923a0b7aec"
   },
   "outputs": [
    {
     "data": {
      "text/html": [
       "<div>\n",
       "<style scoped>\n",
       "    .dataframe tbody tr th:only-of-type {\n",
       "        vertical-align: middle;\n",
       "    }\n",
       "\n",
       "    .dataframe tbody tr th {\n",
       "        vertical-align: top;\n",
       "    }\n",
       "\n",
       "    .dataframe thead th {\n",
       "        text-align: right;\n",
       "    }\n",
       "</style>\n",
       "<table border=\"1\" class=\"dataframe\">\n",
       "  <thead>\n",
       "    <tr style=\"text-align: right;\">\n",
       "      <th></th>\n",
       "      <th>DepTime</th>\n",
       "      <th>Distance</th>\n",
       "    </tr>\n",
       "  </thead>\n",
       "  <tbody>\n",
       "    <tr>\n",
       "      <th>count</th>\n",
       "      <td>100000.000000</td>\n",
       "      <td>100000.00000</td>\n",
       "    </tr>\n",
       "    <tr>\n",
       "      <th>mean</th>\n",
       "      <td>1341.523880</td>\n",
       "      <td>729.39716</td>\n",
       "    </tr>\n",
       "    <tr>\n",
       "      <th>std</th>\n",
       "      <td>476.378445</td>\n",
       "      <td>574.61686</td>\n",
       "    </tr>\n",
       "    <tr>\n",
       "      <th>min</th>\n",
       "      <td>1.000000</td>\n",
       "      <td>30.00000</td>\n",
       "    </tr>\n",
       "    <tr>\n",
       "      <th>25%</th>\n",
       "      <td>931.000000</td>\n",
       "      <td>317.00000</td>\n",
       "    </tr>\n",
       "    <tr>\n",
       "      <th>50%</th>\n",
       "      <td>1330.000000</td>\n",
       "      <td>575.00000</td>\n",
       "    </tr>\n",
       "    <tr>\n",
       "      <th>75%</th>\n",
       "      <td>1733.000000</td>\n",
       "      <td>957.00000</td>\n",
       "    </tr>\n",
       "    <tr>\n",
       "      <th>max</th>\n",
       "      <td>2534.000000</td>\n",
       "      <td>4962.00000</td>\n",
       "    </tr>\n",
       "  </tbody>\n",
       "</table>\n",
       "</div>"
      ],
      "text/plain": [
       "             DepTime      Distance\n",
       "count  100000.000000  100000.00000\n",
       "mean     1341.523880     729.39716\n",
       "std       476.378445     574.61686\n",
       "min         1.000000      30.00000\n",
       "25%       931.000000     317.00000\n",
       "50%      1330.000000     575.00000\n",
       "75%      1733.000000     957.00000\n",
       "max      2534.000000    4962.00000"
      ]
     },
     "execution_count": 13,
     "metadata": {},
     "output_type": "execute_result"
    }
   ],
   "source": [
    "train_df.describe()"
   ]
  },
  {
   "cell_type": "markdown",
   "metadata": {
    "colab_type": "text",
    "id": "i6k-_fI5Aiyh"
   },
   "source": [
    "Notice, `DepTime` is the departure time in a numeric representation in 2400 hours. "
   ]
  },
  {
   "cell_type": "markdown",
   "metadata": {
    "colab_type": "text",
    "id": "gtZS4-hrlQah"
   },
   "source": [
    " **<font color='teal'>The response variable is 'dep_delayed_15min' which is a categorical column, so we need to map the Y for yes and N for no values to 1 and 0. Run the code in the next cell to do this.</font>**"
   ]
  },
  {
   "cell_type": "code",
   "execution_count": 14,
   "metadata": {
    "ExecuteTime": {
     "end_time": "2019-04-22T15:38:42.677690Z",
     "start_time": "2019-04-22T15:38:42.481963Z"
    },
    "colab": {},
    "colab_type": "code",
    "id": "yRlOTbnW-KYc"
   },
   "outputs": [],
   "source": [
    "#train_df = train_df[train_df.DepTime <= 2400].copy()\n",
    "y_train = train_df['dep_delayed_15min'].map({'Y': 1, 'N': 0}).values"
   ]
  },
  {
   "cell_type": "markdown",
   "metadata": {
    "colab_type": "text",
    "id": "z3WPkFQO9uo9"
   },
   "source": [
    "## Feature Engineering\n",
    "Use these defined functions to create additional features for the model. Run the cell to add the functions to your workspace."
   ]
  },
  {
   "cell_type": "code",
   "execution_count": 15,
   "metadata": {
    "colab": {},
    "colab_type": "code",
    "id": "cXqsqz5W9t3r"
   },
   "outputs": [],
   "source": [
    "def label_enc(df_column):\n",
    "    df_column = LabelEncoder().fit_transform(df_column)\n",
    "    return df_column\n",
    "\n",
    "def make_harmonic_features_sin(value, period=2400):\n",
    "    value *= 2 * np.pi / period \n",
    "    return np.sin(value)\n",
    "\n",
    "def make_harmonic_features_cos(value, period=2400):\n",
    "    value *= 2 * np.pi / period \n",
    "    return np.cos(value)\n",
    "\n",
    "def feature_eng(df):\n",
    "    df['flight'] = df['Origin']+df['Dest']\n",
    "    df['Month'] = df.Month.map(lambda x: x.split('-')[-1]).astype('int32')\n",
    "    df['DayofMonth'] = df.DayofMonth.map(lambda x: x.split('-')[-1]).astype('uint8')\n",
    "    df['begin_of_month'] = (df['DayofMonth'] < 10).astype('uint8')\n",
    "    df['midddle_of_month'] = ((df['DayofMonth'] >= 10)&(df['DayofMonth'] < 20)).astype('uint8')\n",
    "    df['end_of_month'] = (df['DayofMonth'] >= 20).astype('uint8')\n",
    "    df['DayOfWeek'] = df.DayOfWeek.map(lambda x: x.split('-')[-1]).astype('uint8')\n",
    "    df['hour'] = df.DepTime.map(lambda x: x/100).astype('int32')\n",
    "    df['morning'] = df['hour'].map(lambda x: 1 if (x <= 11)& (x >= 7) else 0).astype('uint8')\n",
    "    df['day'] = df['hour'].map(lambda x: 1 if (x >= 12) & (x <= 18) else 0).astype('uint8')\n",
    "    df['evening'] = df['hour'].map(lambda x: 1 if (x >= 19) & (x <= 23) else 0).astype('uint8')\n",
    "    df['night'] = df['hour'].map(lambda x: 1 if (x >= 0) & (x <= 6) else 0).astype('int32')\n",
    "    df['winter'] = df['Month'].map(lambda x: x in [12, 1, 2]).astype('int32')\n",
    "    df['spring'] = df['Month'].map(lambda x: x in [3, 4, 5]).astype('int32')\n",
    "    df['summer'] = df['Month'].map(lambda x: x in [6, 7, 8]).astype('int32')\n",
    "    df['autumn'] = df['Month'].map(lambda x: x in [9, 10, 11]).astype('int32')\n",
    "    df['holiday'] = (df['DayOfWeek'] >= 5).astype(int) \n",
    "    df['weekday'] = (df['DayOfWeek'] < 5).astype(int)\n",
    "    df['airport_dest_per_month'] = df.groupby(['Dest', 'Month'])['Dest'].transform('count')\n",
    "    df['airport_origin_per_month'] = df.groupby(['Origin', 'Month'])['Origin'].transform('count')\n",
    "    df['airport_dest_count'] = df.groupby(['Dest'])['Dest'].transform('count')\n",
    "    df['airport_origin_count'] = df.groupby(['Origin'])['Origin'].transform('count')\n",
    "    df['carrier_count'] = df.groupby(['UniqueCarrier'])['Dest'].transform('count')\n",
    "    df['carrier_count_per month'] = df.groupby(['UniqueCarrier', 'Month'])['Dest'].transform('count')\n",
    "    df['deptime_cos'] = df['DepTime'].map(make_harmonic_features_cos)\n",
    "    df['deptime_sin'] = df['DepTime'].map(make_harmonic_features_sin)\n",
    "    df['flightUC'] = df['flight']+df['UniqueCarrier']\n",
    "    df['DestUC'] = df['Dest']+df['UniqueCarrier']\n",
    "    df['OriginUC'] = df['Origin']+df['UniqueCarrier']\n",
    "    return df.drop('DepTime', axis=1)"
   ]
  },
  {
   "cell_type": "markdown",
   "metadata": {
    "colab_type": "text",
    "id": "-BYbxXpU-FGE"
   },
   "source": [
    "Concatenate the training and testing dataframes.\n"
   ]
  },
  {
   "cell_type": "code",
   "execution_count": 16,
   "metadata": {
    "colab": {},
    "colab_type": "code",
    "id": "Cj6bfSNw_RAf"
   },
   "outputs": [],
   "source": [
    "full_df = pd.concat([train_df.drop('dep_delayed_15min', axis=1), test_df])\n",
    "full_df = feature_eng(full_df)"
   ]
  },
  {
   "cell_type": "markdown",
   "metadata": {
    "colab_type": "text",
    "id": "GSO8JbfM_W-F"
   },
   "source": [
    "Apply the earlier defined feature engineering functions to the full dataframe."
   ]
  },
  {
   "cell_type": "code",
   "execution_count": 17,
   "metadata": {
    "colab": {},
    "colab_type": "code",
    "id": "x6RfAINftjwi"
   },
   "outputs": [],
   "source": [
    "for column in ['UniqueCarrier', 'Origin', 'Dest','flight',  'flightUC', 'DestUC', 'OriginUC']:\n",
    "    full_df[column] = label_enc(full_df[column])"
   ]
  },
  {
   "cell_type": "markdown",
   "metadata": {
    "colab_type": "text",
    "id": "IJAw1RGB_ZuM"
   },
   "source": [
    "\n",
    "Split the new full dataframe into X_train and X_test. "
   ]
  },
  {
   "cell_type": "code",
   "execution_count": 18,
   "metadata": {
    "colab": {},
    "colab_type": "code",
    "id": "15cPtQU5tjfz"
   },
   "outputs": [],
   "source": [
    "X_train = full_df[:train_df.shape[0]]\n",
    "X_test = full_df[train_df.shape[0]:]"
   ]
  },
  {
   "cell_type": "markdown",
   "metadata": {
    "colab_type": "text",
    "id": "umfAw-9JErLV"
   },
   "source": [
    "Create a list of the categorical features."
   ]
  },
  {
   "cell_type": "code",
   "execution_count": 19,
   "metadata": {
    "ExecuteTime": {
     "end_time": "2019-04-22T14:31:58.412296Z",
     "start_time": "2019-04-22T14:31:58.409088Z"
    },
    "colab": {},
    "colab_type": "code",
    "id": "5ibeVyNb-KZI"
   },
   "outputs": [],
   "source": [
    "categorical_features = ['Month',  'DayOfWeek', 'UniqueCarrier', 'Origin', 'Dest','flight',  'flightUC', 'DestUC', 'OriginUC']"
   ]
  },
  {
   "cell_type": "markdown",
   "metadata": {
    "colab_type": "text",
    "id": "NzMIsMPIETVk"
   },
   "source": [
    "Let's build a light GBM model to test the bayesian optimizer."
   ]
  },
  {
   "cell_type": "markdown",
   "metadata": {
    "ExecuteTime": {
     "end_time": "2019-04-22T15:18:04.466965Z",
     "start_time": "2019-04-22T15:18:04.457992Z"
    },
    "colab_type": "text",
    "id": "2hfm1i5G-KZH"
   },
   "source": [
    "### [LightGBM](https://lightgbm.readthedocs.io/en/latest/) is a gradient boosting framework that uses tree-based learning algorithms. It is designed to be distributed and efficient with the following advantages:\n",
    "\n",
    "* Faster training speed and higher efficiency.\n",
    "* Lower memory usage.\n",
    "* Better accuracy.\n",
    "* Support of parallel and GPU learning.\n",
    "* Capable of handling large-scale data."
   ]
  },
  {
   "cell_type": "markdown",
   "metadata": {
    "colab_type": "text",
    "id": "jf-3F2Wg-KZL"
   },
   "source": [
    "First, we define the function we want to maximize and that will count cross-validation metrics of lightGBM for our parameters.\n",
    "\n",
    "Some params such as num_leaves, max_depth, min_child_samples, min_data_in_leaf should be integers."
   ]
  },
  {
   "cell_type": "code",
   "execution_count": 20,
   "metadata": {
    "ExecuteTime": {
     "end_time": "2019-04-22T15:40:14.034265Z",
     "start_time": "2019-04-22T15:40:14.027868Z"
    },
    "colab": {},
    "colab_type": "code",
    "id": "LyUJBhGX-KZM"
   },
   "outputs": [],
   "source": [
    "def lgb_eval(num_leaves,max_depth,lambda_l2,lambda_l1,min_child_samples, min_data_in_leaf):\n",
    "    params = {\n",
    "        \"objective\" : \"binary\",\n",
    "        \"metric\" : \"auc\", \n",
    "        'is_unbalance': True,\n",
    "        \"num_leaves\" : int(num_leaves),\n",
    "        \"max_depth\" : int(max_depth),\n",
    "        \"lambda_l2\" : lambda_l2,\n",
    "        \"lambda_l1\" : lambda_l1,\n",
    "        \"num_threads\" : 20,\n",
    "        \"min_child_samples\" : int(min_child_samples),\n",
    "        'min_data_in_leaf': int(min_data_in_leaf),\n",
    "        \"learning_rate\" : 0.03,\n",
    "        \"subsample_freq\" : 5,\n",
    "        \"bagging_seed\" : 42,\n",
    "        \"verbosity\" : -1\n",
    "    }\n",
    "    lgtrain = lightgbm.Dataset(X_train, y_train,categorical_feature=categorical_features)\n",
    "    cv_result = lightgbm.cv(params,\n",
    "                       lgtrain,\n",
    "                       1000,\n",
    "                       stratified=True,\n",
    "                       nfold=3)\n",
    "    return cv_result['valid auc-mean'][-1]"
   ]
  },
  {
   "cell_type": "markdown",
   "metadata": {
    "colab_type": "text",
    "id": "FJwqBhdeF11Q"
   },
   "source": [
    "Apply the Bayesian optimizer to the function we created in the previous step to identify the best hyperparameters. We will run 5 iterations and set init_points = 2.\n"
   ]
  },
  {
   "cell_type": "code",
   "execution_count": 22,
   "metadata": {
    "ExecuteTime": {
     "end_time": "2019-04-22T15:48:04.682447Z",
     "start_time": "2019-04-22T15:40:14.641634Z"
    },
    "colab": {
     "base_uri": "https://localhost:8080/",
     "height": 51
    },
    "colab_type": "code",
    "id": "JheCOkUE-KZP",
    "outputId": "8f37ee51-885d-44e4-cdcd-ceb7abd58b61"
   },
   "outputs": [
    {
     "name": "stdout",
     "output_type": "stream",
     "text": [
      "|   iter    |  target   | lambda_l1 | lambda_l2 | max_depth | min_ch... | min_da... | num_le... |\n",
      "-------------------------------------------------------------------------------------------------\n",
      "| \u001b[39m1        \u001b[39m | \u001b[39m0.7051   \u001b[39m | \u001b[39m0.01761  \u001b[39m | \u001b[39m0.0159   \u001b[39m | \u001b[39m8.286    \u001b[39m | \u001b[39m1.865e+03\u001b[39m | \u001b[39m460.5    \u001b[39m | \u001b[39m606.4    \u001b[39m |\n",
      "| \u001b[35m2        \u001b[39m | \u001b[35m0.743    \u001b[39m | \u001b[35m0.02185  \u001b[39m | \u001b[35m0.02435  \u001b[39m | \u001b[35m35.16    \u001b[39m | \u001b[35m1.088e+03\u001b[39m | \u001b[35m1.222e+03\u001b[39m | \u001b[35m1.812e+03\u001b[39m |\n",
      "| \u001b[35m3        \u001b[39m | \u001b[35m0.7431   \u001b[39m | \u001b[35m0.009652 \u001b[39m | \u001b[35m0.03661  \u001b[39m | \u001b[35m15.98    \u001b[39m | \u001b[35m253.6    \u001b[39m | \u001b[35m1.372e+03\u001b[39m | \u001b[35m1.447e+03\u001b[39m |\n",
      "| \u001b[39m4        \u001b[39m | \u001b[39m0.7427   \u001b[39m | \u001b[39m0.02971  \u001b[39m | \u001b[39m0.03503  \u001b[39m | \u001b[39m32.34    \u001b[39m | \u001b[39m343.1    \u001b[39m | \u001b[39m1.315e+03\u001b[39m | \u001b[39m2.682e+03\u001b[39m |\n",
      "| \u001b[35m5        \u001b[39m | \u001b[35m0.7434   \u001b[39m | \u001b[35m0.02981  \u001b[39m | \u001b[35m0.03013  \u001b[39m | \u001b[35m9.722    \u001b[39m | \u001b[35m9.81e+03 \u001b[39m | \u001b[35m1.797e+03\u001b[39m | \u001b[35m2.908e+03\u001b[39m |\n",
      "| \u001b[39m6        \u001b[39m | \u001b[39m0.7433   \u001b[39m | \u001b[39m0.03272  \u001b[39m | \u001b[39m0.02899  \u001b[39m | \u001b[39m50.35    \u001b[39m | \u001b[39m1.773e+03\u001b[39m | \u001b[39m1.862e+03\u001b[39m | \u001b[39m3.116e+03\u001b[39m |\n",
      "| \u001b[39m7        \u001b[39m | \u001b[39m0.7429   \u001b[39m | \u001b[39m0.01069  \u001b[39m | \u001b[39m0.02949  \u001b[39m | \u001b[39m53.81    \u001b[39m | \u001b[39m955.4    \u001b[39m | \u001b[39m1.309e+03\u001b[39m | \u001b[39m3.225e+03\u001b[39m |\n",
      "=================================================================================================\n"
     ]
    }
   ],
   "source": [
    "lgbBO = BayesianOptimization(lgb_eval, {'num_leaves': (25, 4000),\n",
    "                                                'max_depth': (5, 63),\n",
    "                                                'lambda_l2': (0.0, 0.05),\n",
    "                                                'lambda_l1': (0.0, 0.05),\n",
    "                                                'min_child_samples': (50, 10000),\n",
    "                                                'min_data_in_leaf': (100, 2000)\n",
    "                                                })\n",
    "\n",
    "lgbBO.maximize(n_iter=5, init_points=2)"
   ]
  },
  {
   "cell_type": "markdown",
   "metadata": {
    "colab_type": "text",
    "id": "rdkxhhST-KZS"
   },
   "source": [
    " **<font color='teal'> Print the best result by using the '.max' function.</font>**"
   ]
  },
  {
   "cell_type": "code",
   "execution_count": 23,
   "metadata": {
    "ExecuteTime": {
     "end_time": "2019-04-22T15:49:01.513767Z",
     "start_time": "2019-04-22T15:49:01.509392Z"
    },
    "colab": {},
    "colab_type": "code",
    "id": "oc8z6mfy-KZS"
   },
   "outputs": [
    {
     "data": {
      "text/plain": [
       "{'target': 0.7434474068729799,\n",
       " 'params': {'lambda_l1': 0.029805672728247214,\n",
       "  'lambda_l2': 0.03012892576857005,\n",
       "  'max_depth': 9.721742877541658,\n",
       "  'min_child_samples': 9809.720580824805,\n",
       "  'min_data_in_leaf': 1796.674296135087,\n",
       "  'num_leaves': 2907.809406716554}}"
      ]
     },
     "execution_count": 23,
     "metadata": {},
     "output_type": "execute_result"
    }
   ],
   "source": [
    "lgbBO.max"
   ]
  },
  {
   "cell_type": "markdown",
   "metadata": {
    "ExecuteTime": {
     "end_time": "2019-04-22T15:50:29.049881Z",
     "start_time": "2019-04-22T15:50:29.045908Z"
    },
    "colab_type": "text",
    "id": "J5LAydKC-KZW"
   },
   "source": [
    "Review the process at each step by using the '.res[0]' function."
   ]
  },
  {
   "cell_type": "code",
   "execution_count": 24,
   "metadata": {
    "ExecuteTime": {
     "end_time": "2019-04-22T15:51:01.001688Z",
     "start_time": "2019-04-22T15:51:00.997484Z"
    },
    "colab": {},
    "colab_type": "code",
    "id": "X1ttZmrI-KZX"
   },
   "outputs": [
    {
     "data": {
      "text/plain": [
       "{'target': 0.705148135424213,\n",
       " 'params': {'lambda_l1': 0.017611137669144208,\n",
       "  'lambda_l2': 0.015900335751517038,\n",
       "  'max_depth': 8.285526815410826,\n",
       "  'min_child_samples': 1865.4191234755085,\n",
       "  'min_data_in_leaf': 460.52887211298616,\n",
       "  'num_leaves': 606.442077637819}}"
      ]
     },
     "execution_count": 24,
     "metadata": {},
     "output_type": "execute_result"
    }
   ],
   "source": [
    "lgbBO.res[0]"
   ]
  },
  {
   "cell_type": "code",
   "execution_count": null,
   "metadata": {},
   "outputs": [],
   "source": []
  }
 ],
 "metadata": {
  "colab": {
   "name": "Bayesian_optimization_exercise.ipynb",
   "provenance": []
  },
  "deepnote_execution_queue": [],
  "kernelspec": {
   "display_name": "Python 3 (ipykernel)",
   "language": "python",
   "name": "python3"
  },
  "language_info": {
   "codemirror_mode": {
    "name": "ipython",
    "version": 3
   },
   "file_extension": ".py",
   "mimetype": "text/x-python",
   "name": "python",
   "nbconvert_exporter": "python",
   "pygments_lexer": "ipython3",
   "version": "3.11.5"
  },
  "varInspector": {
   "cols": {
    "lenName": 16,
    "lenType": 16,
    "lenVar": 40
   },
   "kernels_config": {
    "python": {
     "delete_cmd_postfix": "",
     "delete_cmd_prefix": "del ",
     "library": "var_list.py",
     "varRefreshCmd": "print(var_dic_list())"
    },
    "r": {
     "delete_cmd_postfix": ") ",
     "delete_cmd_prefix": "rm(",
     "library": "var_list.r",
     "varRefreshCmd": "cat(var_dic_list()) "
    }
   },
   "types_to_exclude": [
    "module",
    "function",
    "builtin_function_or_method",
    "instance",
    "_Feature"
   ],
   "window_display": false
  }
 },
 "nbformat": 4,
 "nbformat_minor": 1
}
