{
 "cells": [
  {
   "cell_type": "markdown",
   "id": "2c039f6b",
   "metadata": {},
   "source": [
    "# Preprocessing and Training Data Development\n",
    "\n",
    "- Create dummy or indicator features for categorical variables.\n",
    "- Standardize the magnitude of numeric features.\n",
    "- Split the data into training and testing subsets.\n",
    "\n"
   ]
  },
  {
   "cell_type": "markdown",
   "id": "9a7a6504",
   "metadata": {},
   "source": [
    "## Step 1: Creating Dummy or Indicator Features\n",
    "We identify and process categorical variables by creating dummy features to represent their categories numerically. This allows us to include them in model development."
   ]
  },
  {
   "cell_type": "code",
   "execution_count": 2,
   "id": "50e648dc",
   "metadata": {},
   "outputs": [
    {
     "data": {
      "text/html": [
       "<div>\n",
       "<style scoped>\n",
       "    .dataframe tbody tr th:only-of-type {\n",
       "        vertical-align: middle;\n",
       "    }\n",
       "\n",
       "    .dataframe tbody tr th {\n",
       "        vertical-align: top;\n",
       "    }\n",
       "\n",
       "    .dataframe thead th {\n",
       "        text-align: right;\n",
       "    }\n",
       "</style>\n",
       "<table border=\"1\" class=\"dataframe\">\n",
       "  <thead>\n",
       "    <tr style=\"text-align: right;\">\n",
       "      <th></th>\n",
       "      <th>price</th>\n",
       "      <th>area</th>\n",
       "      <th>bedrooms</th>\n",
       "      <th>bathrooms</th>\n",
       "      <th>stories</th>\n",
       "      <th>mainroad</th>\n",
       "      <th>guestroom</th>\n",
       "      <th>basement</th>\n",
       "      <th>hotwaterheating</th>\n",
       "      <th>airconditioning</th>\n",
       "      <th>parking</th>\n",
       "      <th>prefarea</th>\n",
       "      <th>furnishingstatus_semi-furnished</th>\n",
       "      <th>furnishingstatus_unfurnished</th>\n",
       "    </tr>\n",
       "  </thead>\n",
       "  <tbody>\n",
       "    <tr>\n",
       "      <th>0</th>\n",
       "      <td>13300000</td>\n",
       "      <td>7420</td>\n",
       "      <td>4</td>\n",
       "      <td>2</td>\n",
       "      <td>3</td>\n",
       "      <td>1</td>\n",
       "      <td>0</td>\n",
       "      <td>0</td>\n",
       "      <td>0</td>\n",
       "      <td>1</td>\n",
       "      <td>2</td>\n",
       "      <td>1</td>\n",
       "      <td>False</td>\n",
       "      <td>False</td>\n",
       "    </tr>\n",
       "    <tr>\n",
       "      <th>1</th>\n",
       "      <td>12250000</td>\n",
       "      <td>8960</td>\n",
       "      <td>4</td>\n",
       "      <td>4</td>\n",
       "      <td>4</td>\n",
       "      <td>1</td>\n",
       "      <td>0</td>\n",
       "      <td>0</td>\n",
       "      <td>0</td>\n",
       "      <td>1</td>\n",
       "      <td>3</td>\n",
       "      <td>0</td>\n",
       "      <td>False</td>\n",
       "      <td>False</td>\n",
       "    </tr>\n",
       "    <tr>\n",
       "      <th>2</th>\n",
       "      <td>12250000</td>\n",
       "      <td>9960</td>\n",
       "      <td>3</td>\n",
       "      <td>2</td>\n",
       "      <td>2</td>\n",
       "      <td>1</td>\n",
       "      <td>0</td>\n",
       "      <td>1</td>\n",
       "      <td>0</td>\n",
       "      <td>0</td>\n",
       "      <td>2</td>\n",
       "      <td>1</td>\n",
       "      <td>True</td>\n",
       "      <td>False</td>\n",
       "    </tr>\n",
       "    <tr>\n",
       "      <th>3</th>\n",
       "      <td>12215000</td>\n",
       "      <td>7500</td>\n",
       "      <td>4</td>\n",
       "      <td>2</td>\n",
       "      <td>2</td>\n",
       "      <td>1</td>\n",
       "      <td>0</td>\n",
       "      <td>1</td>\n",
       "      <td>0</td>\n",
       "      <td>1</td>\n",
       "      <td>3</td>\n",
       "      <td>1</td>\n",
       "      <td>False</td>\n",
       "      <td>False</td>\n",
       "    </tr>\n",
       "    <tr>\n",
       "      <th>4</th>\n",
       "      <td>11410000</td>\n",
       "      <td>7420</td>\n",
       "      <td>4</td>\n",
       "      <td>1</td>\n",
       "      <td>2</td>\n",
       "      <td>1</td>\n",
       "      <td>1</td>\n",
       "      <td>1</td>\n",
       "      <td>0</td>\n",
       "      <td>1</td>\n",
       "      <td>2</td>\n",
       "      <td>0</td>\n",
       "      <td>False</td>\n",
       "      <td>False</td>\n",
       "    </tr>\n",
       "  </tbody>\n",
       "</table>\n",
       "</div>"
      ],
      "text/plain": [
       "      price  area  bedrooms  bathrooms  stories  mainroad  guestroom  \\\n",
       "0  13300000  7420         4          2        3         1          0   \n",
       "1  12250000  8960         4          4        4         1          0   \n",
       "2  12250000  9960         3          2        2         1          0   \n",
       "3  12215000  7500         4          2        2         1          0   \n",
       "4  11410000  7420         4          1        2         1          1   \n",
       "\n",
       "   basement  hotwaterheating  airconditioning  parking  prefarea  \\\n",
       "0         0                0                1        2         1   \n",
       "1         0                0                1        3         0   \n",
       "2         1                0                0        2         1   \n",
       "3         1                0                1        3         1   \n",
       "4         1                0                1        2         0   \n",
       "\n",
       "   furnishingstatus_semi-furnished  furnishingstatus_unfurnished  \n",
       "0                            False                         False  \n",
       "1                            False                         False  \n",
       "2                             True                         False  \n",
       "3                            False                         False  \n",
       "4                            False                         False  "
      ]
     },
     "execution_count": 2,
     "metadata": {},
     "output_type": "execute_result"
    }
   ],
   "source": [
    "# Import necessary libraries\n",
    "import pandas as pd\n",
    "\n",
    "# Load the dataset\n",
    "housing_data = pd.read_csv('Housing.csv')\n",
    "\n",
    "# Convert binary categorical variables (yes/no) to numeric (1/0)\n",
    "binary_columns = ['mainroad', 'guestroom', 'basement', 'hotwaterheating', 'airconditioning', 'prefarea']\n",
    "housing_data[binary_columns] = housing_data[binary_columns].replace({'yes': 1, 'no': 0})\n",
    "\n",
    "# Create dummy variables for 'furnishingstatus'\n",
    "housing_data = pd.get_dummies(housing_data, columns=['furnishingstatus'], drop_first=True)\n",
    "\n",
    "# Display the updated dataset\n",
    "housing_data.head()"
   ]
  },
  {
   "cell_type": "markdown",
   "id": "541252aa",
   "metadata": {},
   "source": [
    "## Step 2: Standardizing the Magnitude of Numeric Features\n",
    "To ensure all numerical features are on the same scale, we standardize them to have a mean of 0 and a standard deviation of 1. This step is crucial for models sensitive to feature magnitude, such as linear regression or gradient boosting."
   ]
  },
  {
   "cell_type": "code",
   "execution_count": 3,
   "id": "e42b0148",
   "metadata": {},
   "outputs": [
    {
     "data": {
      "text/html": [
       "<div>\n",
       "<style scoped>\n",
       "    .dataframe tbody tr th:only-of-type {\n",
       "        vertical-align: middle;\n",
       "    }\n",
       "\n",
       "    .dataframe tbody tr th {\n",
       "        vertical-align: top;\n",
       "    }\n",
       "\n",
       "    .dataframe thead th {\n",
       "        text-align: right;\n",
       "    }\n",
       "</style>\n",
       "<table border=\"1\" class=\"dataframe\">\n",
       "  <thead>\n",
       "    <tr style=\"text-align: right;\">\n",
       "      <th></th>\n",
       "      <th>price</th>\n",
       "      <th>area</th>\n",
       "      <th>bedrooms</th>\n",
       "      <th>bathrooms</th>\n",
       "      <th>stories</th>\n",
       "      <th>mainroad</th>\n",
       "      <th>guestroom</th>\n",
       "      <th>basement</th>\n",
       "      <th>hotwaterheating</th>\n",
       "      <th>airconditioning</th>\n",
       "      <th>parking</th>\n",
       "      <th>prefarea</th>\n",
       "      <th>furnishingstatus_semi-furnished</th>\n",
       "      <th>furnishingstatus_unfurnished</th>\n",
       "    </tr>\n",
       "  </thead>\n",
       "  <tbody>\n",
       "    <tr>\n",
       "      <th>0</th>\n",
       "      <td>13300000</td>\n",
       "      <td>1.046726</td>\n",
       "      <td>1.403419</td>\n",
       "      <td>1.421812</td>\n",
       "      <td>1.378217</td>\n",
       "      <td>1</td>\n",
       "      <td>0</td>\n",
       "      <td>0</td>\n",
       "      <td>0</td>\n",
       "      <td>1</td>\n",
       "      <td>1.517692</td>\n",
       "      <td>1</td>\n",
       "      <td>False</td>\n",
       "      <td>False</td>\n",
       "    </tr>\n",
       "    <tr>\n",
       "      <th>1</th>\n",
       "      <td>12250000</td>\n",
       "      <td>1.757010</td>\n",
       "      <td>1.403419</td>\n",
       "      <td>5.405809</td>\n",
       "      <td>2.532024</td>\n",
       "      <td>1</td>\n",
       "      <td>0</td>\n",
       "      <td>0</td>\n",
       "      <td>0</td>\n",
       "      <td>1</td>\n",
       "      <td>2.679409</td>\n",
       "      <td>0</td>\n",
       "      <td>False</td>\n",
       "      <td>False</td>\n",
       "    </tr>\n",
       "    <tr>\n",
       "      <th>2</th>\n",
       "      <td>12250000</td>\n",
       "      <td>2.218232</td>\n",
       "      <td>0.047278</td>\n",
       "      <td>1.421812</td>\n",
       "      <td>0.224410</td>\n",
       "      <td>1</td>\n",
       "      <td>0</td>\n",
       "      <td>1</td>\n",
       "      <td>0</td>\n",
       "      <td>0</td>\n",
       "      <td>1.517692</td>\n",
       "      <td>1</td>\n",
       "      <td>True</td>\n",
       "      <td>False</td>\n",
       "    </tr>\n",
       "    <tr>\n",
       "      <th>3</th>\n",
       "      <td>12215000</td>\n",
       "      <td>1.083624</td>\n",
       "      <td>1.403419</td>\n",
       "      <td>1.421812</td>\n",
       "      <td>0.224410</td>\n",
       "      <td>1</td>\n",
       "      <td>0</td>\n",
       "      <td>1</td>\n",
       "      <td>0</td>\n",
       "      <td>1</td>\n",
       "      <td>2.679409</td>\n",
       "      <td>1</td>\n",
       "      <td>False</td>\n",
       "      <td>False</td>\n",
       "    </tr>\n",
       "    <tr>\n",
       "      <th>4</th>\n",
       "      <td>11410000</td>\n",
       "      <td>1.046726</td>\n",
       "      <td>1.403419</td>\n",
       "      <td>-0.570187</td>\n",
       "      <td>0.224410</td>\n",
       "      <td>1</td>\n",
       "      <td>1</td>\n",
       "      <td>1</td>\n",
       "      <td>0</td>\n",
       "      <td>1</td>\n",
       "      <td>1.517692</td>\n",
       "      <td>0</td>\n",
       "      <td>False</td>\n",
       "      <td>False</td>\n",
       "    </tr>\n",
       "  </tbody>\n",
       "</table>\n",
       "</div>"
      ],
      "text/plain": [
       "      price      area  bedrooms  bathrooms   stories  mainroad  guestroom  \\\n",
       "0  13300000  1.046726  1.403419   1.421812  1.378217         1          0   \n",
       "1  12250000  1.757010  1.403419   5.405809  2.532024         1          0   \n",
       "2  12250000  2.218232  0.047278   1.421812  0.224410         1          0   \n",
       "3  12215000  1.083624  1.403419   1.421812  0.224410         1          0   \n",
       "4  11410000  1.046726  1.403419  -0.570187  0.224410         1          1   \n",
       "\n",
       "   basement  hotwaterheating  airconditioning   parking  prefarea  \\\n",
       "0         0                0                1  1.517692         1   \n",
       "1         0                0                1  2.679409         0   \n",
       "2         1                0                0  1.517692         1   \n",
       "3         1                0                1  2.679409         1   \n",
       "4         1                0                1  1.517692         0   \n",
       "\n",
       "   furnishingstatus_semi-furnished  furnishingstatus_unfurnished  \n",
       "0                            False                         False  \n",
       "1                            False                         False  \n",
       "2                             True                         False  \n",
       "3                            False                         False  \n",
       "4                            False                         False  "
      ]
     },
     "execution_count": 3,
     "metadata": {},
     "output_type": "execute_result"
    }
   ],
   "source": [
    "from sklearn.preprocessing import StandardScaler\n",
    "\n",
    "# Initialize the scaler\n",
    "scaler = StandardScaler()\n",
    "\n",
    "# Identify numerical columns to scale\n",
    "numerical_columns = ['area', 'bedrooms', 'bathrooms', 'stories', 'parking']\n",
    "housing_data[numerical_columns] = scaler.fit_transform(housing_data[numerical_columns])\n",
    "\n",
    "# Display the dataset after scaling\n",
    "housing_data.head()"
   ]
  },
  {
   "cell_type": "markdown",
   "id": "d1830b64",
   "metadata": {},
   "source": [
    "## Step 3: Splitting the Data into Training and Testing Subsets\n",
    "We split the dataset into training (80%) and testing (20%) subsets. The training set will be used to train the model, and the testing set will evaluate its performance."
   ]
  },
  {
   "cell_type": "code",
   "execution_count": 4,
   "id": "beb3907a",
   "metadata": {},
   "outputs": [
    {
     "name": "stdout",
     "output_type": "stream",
     "text": [
      "Training Features Shape: (436, 13)\n",
      "Testing Features Shape: (109, 13)\n",
      "Training Labels Shape: (436,)\n",
      "Testing Labels Shape: (109,)\n"
     ]
    }
   ],
   "source": [
    "from sklearn.model_selection import train_test_split\n",
    "\n",
    "# Define the target variable (price) and features\n",
    "X = housing_data.drop(columns=['price'])  # Features\n",
    "y = housing_data['price']  # Target variable\n",
    "\n",
    "# Split the data\n",
    "X_train, X_test, y_train, y_test = train_test_split(X, y, test_size=0.2, random_state=42)\n",
    "\n",
    "# Display the shapes of the training and testing sets\n",
    "print(\"Training Features Shape:\", X_train.shape)\n",
    "print(\"Testing Features Shape:\", X_test.shape)\n",
    "print(\"Training Labels Shape:\", y_train.shape)\n",
    "print(\"Testing Labels Shape:\", y_test.shape)"
   ]
  },
  {
   "cell_type": "markdown",
   "id": "a2fcdfd0",
   "metadata": {},
   "source": [
    "## Step 4: Saving Preprocessed Data\n",
    "To ensure reproducibility and facilitate modeling in subsequent steps, we save the preprocessed training and testing datasets as CSV files."
   ]
  },
  {
   "cell_type": "code",
   "execution_count": 5,
   "id": "fb556468",
   "metadata": {},
   "outputs": [
    {
     "name": "stdout",
     "output_type": "stream",
     "text": [
      "Preprocessed data saved successfully.\n"
     ]
    }
   ],
   "source": [
    "# Save the preprocessed data\n",
    "X_train.to_csv('X_train.csv', index=False)\n",
    "X_test.to_csv('X_test.csv', index=False)\n",
    "y_train.to_csv('y_train.csv', index=False)\n",
    "y_test.to_csv('y_test.csv', index=False)\n",
    "\n",
    "print(\"Preprocessed data saved successfully.\")"
   ]
  },
  {
   "cell_type": "markdown",
   "id": "fffd6e59",
   "metadata": {},
   "source": [
    "## Conclusion\n",
    "- Dummy features for categorical variables have been created.\n",
    "- Numerical features have been standardized.\n",
    "- The data has been split into training and testing subsets.\n",
    "- Preprocessed datasets have been saved for future use.\n",
    "\n",
    "The dataset is now ready for model development."
   ]
  },
  {
   "cell_type": "markdown",
   "id": "a8012ad6",
   "metadata": {},
   "source": [
    "## Modeling: Predicting House Prices\n",
    "\n",
    "- Train and evaluate three models (Linear Regression, Random Forest, and XGBoost).\n",
    "- Compare their performance using Root Mean Squared Error (RMSE) and R² Score.\n",
    "- Identify the best-performing model for predicting house prices."
   ]
  },
  {
   "cell_type": "markdown",
   "id": "1c359613",
   "metadata": {},
   "source": [
    "### Step 1: Load Preprocessed Data\n",
    "We start by loading the preprocessed training and testing datasets created earlier."
   ]
  },
  {
   "cell_type": "code",
   "execution_count": 6,
   "id": "ebc5f03b",
   "metadata": {},
   "outputs": [
    {
     "name": "stdout",
     "output_type": "stream",
     "text": [
      "Training Features Shape: (436, 13)\n",
      "Testing Features Shape: (109, 13)\n",
      "Training Labels Shape: (436,)\n",
      "Testing Labels Shape: (109,)\n"
     ]
    }
   ],
   "source": [
    "import pandas as pd\n",
    "X_train = pd.read_csv('X_train.csv')\n",
    "X_test = pd.read_csv('X_test.csv')\n",
    "y_train = pd.read_csv('y_train.csv').values.ravel()  # Flatten the target array\n",
    "y_test = pd.read_csv('y_test.csv').values.ravel()\n",
    "\n",
    "# Display the shapes of the datasets\n",
    "print(\"Training Features Shape:\", X_train.shape)\n",
    "print(\"Testing Features Shape:\", X_test.shape)\n",
    "print(\"Training Labels Shape:\", y_train.shape)\n",
    "print(\"Testing Labels Shape:\", y_test.shape)"
   ]
  },
  {
   "cell_type": "markdown",
   "id": "43b6bce3",
   "metadata": {},
   "source": [
    "### Step 2: Define Models\n",
    "We will evaluate the following models:\n",
    "- **Linear Regression**: A simple, interpretable baseline model.\n",
    "- **Random Forest Regressor**: A tree-based ensemble model for non-linear relationships.\n",
    "- **XGBoost Regressor**: A gradient boosting model for powerful predictions."
   ]
  },
  {
   "cell_type": "code",
   "execution_count": 7,
   "id": "a325491e",
   "metadata": {},
   "outputs": [
    {
     "name": "stdout",
     "output_type": "stream",
     "text": [
      "Requirement already satisfied: xgboost in c:\\users\\drasw\\anaconda3\\lib\\site-packages (2.1.3)\n",
      "Requirement already satisfied: numpy in c:\\users\\drasw\\anaconda3\\lib\\site-packages (from xgboost) (1.26.4)\n",
      "Requirement already satisfied: scipy in c:\\users\\drasw\\anaconda3\\lib\\site-packages (from xgboost) (1.11.1)\n",
      "Note: you may need to restart the kernel to use updated packages.\n"
     ]
    }
   ],
   "source": [
    "pip install xgboost"
   ]
  },
  {
   "cell_type": "code",
   "execution_count": 9,
   "id": "7c60e4f5",
   "metadata": {},
   "outputs": [],
   "source": [
    "from sklearn.linear_model import LinearRegression\n",
    "from sklearn.ensemble import RandomForestRegressor\n",
    "from xgboost import XGBRegressor\n",
    "\n",
    "# Initialize models\n",
    "models = {\n",
    "    'Linear Regression': LinearRegression(),\n",
    "    'Random Forest': RandomForestRegressor(random_state=42),\n",
    "    'XGBoost': XGBRegressor(random_state=42)\n",
    "}"
   ]
  },
  {
   "cell_type": "markdown",
   "id": "7711a390",
   "metadata": {},
   "source": [
    "### Step 3: Train and Evaluate Models\n",
    "We train each model using the training set and evaluate its performance on the testing set using the following metrics:\n",
    "- **Root Mean Squared Error (RMSE)**: Measures the average prediction error.\n",
    "- **R² Score**: Indicates how well the model explains the variance in the target variable."
   ]
  },
  {
   "cell_type": "code",
   "execution_count": 10,
   "id": "e86b638c",
   "metadata": {},
   "outputs": [
    {
     "name": "stderr",
     "output_type": "stream",
     "text": [
      "C:\\Users\\drasw\\anaconda3\\Lib\\site-packages\\sklearn\\metrics\\_regression.py:492: FutureWarning: 'squared' is deprecated in version 1.4 and will be removed in 1.6. To calculate the root mean squared error, use the function'root_mean_squared_error'.\n",
      "  warnings.warn(\n"
     ]
    },
    {
     "name": "stdout",
     "output_type": "stream",
     "text": [
      "               Model          RMSE  R² Score\n",
      "0  Linear Regression  1.324507e+06  0.652924\n",
      "1      Random Forest  1.400845e+06  0.611764\n",
      "2            XGBoost  1.448930e+06  0.584653\n"
     ]
    },
    {
     "name": "stderr",
     "output_type": "stream",
     "text": [
      "C:\\Users\\drasw\\anaconda3\\Lib\\site-packages\\sklearn\\metrics\\_regression.py:492: FutureWarning: 'squared' is deprecated in version 1.4 and will be removed in 1.6. To calculate the root mean squared error, use the function'root_mean_squared_error'.\n",
      "  warnings.warn(\n",
      "C:\\Users\\drasw\\anaconda3\\Lib\\site-packages\\sklearn\\metrics\\_regression.py:492: FutureWarning: 'squared' is deprecated in version 1.4 and will be removed in 1.6. To calculate the root mean squared error, use the function'root_mean_squared_error'.\n",
      "  warnings.warn(\n"
     ]
    }
   ],
   "source": [
    "from sklearn.metrics import mean_squared_error, r2_score\n",
    "\n",
    "# Helper function to evaluate models\n",
    "def evaluate_model(model, X_train, y_train, X_test, y_test):\n",
    "    model.fit(X_train, y_train)  # Train the model\n",
    "    y_pred = model.predict(X_test)  # Make predictions\n",
    "    rmse = mean_squared_error(y_test, y_pred, squared=False)  # Calculate RMSE\n",
    "    r2 = r2_score(y_test, y_pred)  # Calculate R² Score\n",
    "    return rmse, r2\n",
    "\n",
    "# Evaluate each model\n",
    "results = []\n",
    "for name, model in models.items():\n",
    "    rmse, r2 = evaluate_model(model, X_train, y_train, X_test, y_test)\n",
    "    results.append({'Model': name, 'RMSE': rmse, 'R² Score': r2})\n",
    "\n",
    "# Create a DataFrame to display results\n",
    "results_df = pd.DataFrame(results)\n",
    "print(results_df)"
   ]
  },
  {
   "cell_type": "markdown",
   "id": "b365532e",
   "metadata": {},
   "source": [
    "### Step 4: Identify the Best Model\n",
    "We select the model with the lowest RMSE as the best model. If two models have similar RMSE, we also consider R² Score and other factors like interpretability and computational efficiency."
   ]
  },
  {
   "cell_type": "code",
   "execution_count": 11,
   "id": "35522096",
   "metadata": {},
   "outputs": [
    {
     "name": "stdout",
     "output_type": "stream",
     "text": [
      "Best Model:\n",
      "Model       Linear Regression\n",
      "RMSE           1324506.960091\n",
      "R² Score             0.652924\n",
      "Name: 0, dtype: object\n"
     ]
    }
   ],
   "source": [
    "# Identify the best model based on RMSE\n",
    "best_model = results_df.loc[results_df['RMSE'].idxmin()]\n",
    "print(\"Best Model:\")\n",
    "print(best_model)"
   ]
  },
  {
   "cell_type": "markdown",
   "id": "dc55c32c",
   "metadata": {},
   "source": [
    "### Conclusion\n",
    "- We trained and evaluated three models: Linear Regression, Random Forest, and XGBoost.\n",
    "- Based on the evaluation metrics, we identified the best-performing model.\n",
    "- This model will be used for making predictions and further analysis."
   ]
  }
 ],
 "metadata": {
  "kernelspec": {
   "display_name": "Python 3 (ipykernel)",
   "language": "python",
   "name": "python3"
  },
  "language_info": {
   "codemirror_mode": {
    "name": "ipython",
    "version": 3
   },
   "file_extension": ".py",
   "mimetype": "text/x-python",
   "name": "python",
   "nbconvert_exporter": "python",
   "pygments_lexer": "ipython3",
   "version": "3.11.5"
  }
 },
 "nbformat": 4,
 "nbformat_minor": 5
}
